{
 "cells": [
  {
   "cell_type": "markdown",
   "id": "4b625569",
   "metadata": {},
   "source": [
    "# Проект по приоритизации гипотез и анализу А/В-теста для увеличения выручки интернет-магазина\n",
    "\n"
   ]
  },
  {
   "cell_type": "markdown",
   "id": "21a1aeb7",
   "metadata": {},
   "source": [
    "## Часть 1. Предобработка данных"
   ]
  },
  {
   "cell_type": "markdown",
   "id": "a9045b86",
   "metadata": {},
   "source": [
    "Выполним предварительный анализ и обработку данных в трех представленных таблицах, подготовим данные к дальнейшему анализу.\\\n",
    "В файле /datasets/hypothesis.csv 9 гипотез по увеличению выручки интернет-магазина с указанными параметрами Reach, Impact, Confidence, Effort.\\\n",
    "В файлах /datasets/orders.csv и /datasets/visitors.csv представлены результаты проведенного A/B-теста."
   ]
  },
  {
   "cell_type": "code",
   "execution_count": 1,
   "id": "852dab17",
   "metadata": {},
   "outputs": [],
   "source": [
    "#импортируем необходимые бибилиотеки\n",
    "import pandas as pd\n",
    "import matplotlib.pyplot as plt\n",
    "import numpy as np\n",
    "import seaborn as sns\n",
    "from scipy import stats as st\n",
    "import math as mth\n",
    "import datetime as dt"
   ]
  },
  {
   "cell_type": "code",
   "execution_count": 2,
   "id": "9e1f7e3f",
   "metadata": {},
   "outputs": [],
   "source": [
    "#загружаем данные из файла с гипотезами в датафрейм\n",
    "try:\n",
    "    hypothesis = pd.read_csv('/datasets/hypothesis.csv')\n",
    "except:\n",
    "    hypothesis = pd.read_csv('datasets/hypothesis.csv')"
   ]
  },
  {
   "cell_type": "code",
   "execution_count": 3,
   "id": "ab6f598b",
   "metadata": {},
   "outputs": [
    {
     "data": {
      "text/html": [
       "<div>\n",
       "<style scoped>\n",
       "    .dataframe tbody tr th:only-of-type {\n",
       "        vertical-align: middle;\n",
       "    }\n",
       "\n",
       "    .dataframe tbody tr th {\n",
       "        vertical-align: top;\n",
       "    }\n",
       "\n",
       "    .dataframe thead th {\n",
       "        text-align: right;\n",
       "    }\n",
       "</style>\n",
       "<table border=\"1\" class=\"dataframe\">\n",
       "  <thead>\n",
       "    <tr style=\"text-align: right;\">\n",
       "      <th></th>\n",
       "      <th>Hypothesis</th>\n",
       "      <th>Reach</th>\n",
       "      <th>Impact</th>\n",
       "      <th>Confidence</th>\n",
       "      <th>Efforts</th>\n",
       "    </tr>\n",
       "  </thead>\n",
       "  <tbody>\n",
       "    <tr>\n",
       "      <th>0</th>\n",
       "      <td>Добавить два новых канала привлечения трафика, что позволит привлекать на 30% больше пользователей</td>\n",
       "      <td>3</td>\n",
       "      <td>10</td>\n",
       "      <td>8</td>\n",
       "      <td>6</td>\n",
       "    </tr>\n",
       "    <tr>\n",
       "      <th>1</th>\n",
       "      <td>Запустить собственную службу доставки, что сократит срок доставки заказов</td>\n",
       "      <td>2</td>\n",
       "      <td>5</td>\n",
       "      <td>4</td>\n",
       "      <td>10</td>\n",
       "    </tr>\n",
       "    <tr>\n",
       "      <th>2</th>\n",
       "      <td>Добавить блоки рекомендаций товаров на сайт интернет магазина, чтобы повысить конверсию и средний чек заказа</td>\n",
       "      <td>8</td>\n",
       "      <td>3</td>\n",
       "      <td>7</td>\n",
       "      <td>3</td>\n",
       "    </tr>\n",
       "    <tr>\n",
       "      <th>3</th>\n",
       "      <td>Изменить структура категорий, что увеличит конверсию, т.к. пользователи быстрее найдут нужный товар</td>\n",
       "      <td>8</td>\n",
       "      <td>3</td>\n",
       "      <td>3</td>\n",
       "      <td>8</td>\n",
       "    </tr>\n",
       "    <tr>\n",
       "      <th>4</th>\n",
       "      <td>Изменить цвет фона главной страницы, чтобы увеличить вовлеченность пользователей</td>\n",
       "      <td>3</td>\n",
       "      <td>1</td>\n",
       "      <td>1</td>\n",
       "      <td>1</td>\n",
       "    </tr>\n",
       "    <tr>\n",
       "      <th>5</th>\n",
       "      <td>Добавить страницу отзывов клиентов о магазине, что позволит увеличить количество заказов</td>\n",
       "      <td>3</td>\n",
       "      <td>2</td>\n",
       "      <td>2</td>\n",
       "      <td>3</td>\n",
       "    </tr>\n",
       "    <tr>\n",
       "      <th>6</th>\n",
       "      <td>Показать на главной странице баннеры с актуальными акциями и распродажами, чтобы увеличить конверсию</td>\n",
       "      <td>5</td>\n",
       "      <td>3</td>\n",
       "      <td>8</td>\n",
       "      <td>3</td>\n",
       "    </tr>\n",
       "    <tr>\n",
       "      <th>7</th>\n",
       "      <td>Добавить форму подписки на все основные страницы, чтобы собрать базу клиентов для email-рассылок</td>\n",
       "      <td>10</td>\n",
       "      <td>7</td>\n",
       "      <td>8</td>\n",
       "      <td>5</td>\n",
       "    </tr>\n",
       "    <tr>\n",
       "      <th>8</th>\n",
       "      <td>Запустить акцию, дающую скидку на товар в день рождения</td>\n",
       "      <td>1</td>\n",
       "      <td>9</td>\n",
       "      <td>9</td>\n",
       "      <td>5</td>\n",
       "    </tr>\n",
       "  </tbody>\n",
       "</table>\n",
       "</div>"
      ],
      "text/plain": [
       "                                                                                                     Hypothesis  \\\n",
       "0            Добавить два новых канала привлечения трафика, что позволит привлекать на 30% больше пользователей   \n",
       "1                                     Запустить собственную службу доставки, что сократит срок доставки заказов   \n",
       "2  Добавить блоки рекомендаций товаров на сайт интернет магазина, чтобы повысить конверсию и средний чек заказа   \n",
       "3           Изменить структура категорий, что увеличит конверсию, т.к. пользователи быстрее найдут нужный товар   \n",
       "4                              Изменить цвет фона главной страницы, чтобы увеличить вовлеченность пользователей   \n",
       "5                      Добавить страницу отзывов клиентов о магазине, что позволит увеличить количество заказов   \n",
       "6          Показать на главной странице баннеры с актуальными акциями и распродажами, чтобы увеличить конверсию   \n",
       "7              Добавить форму подписки на все основные страницы, чтобы собрать базу клиентов для email-рассылок   \n",
       "8                                                       Запустить акцию, дающую скидку на товар в день рождения   \n",
       "\n",
       "   Reach  Impact  Confidence  Efforts  \n",
       "0      3      10           8        6  \n",
       "1      2       5           4       10  \n",
       "2      8       3           7        3  \n",
       "3      8       3           3        8  \n",
       "4      3       1           1        1  \n",
       "5      3       2           2        3  \n",
       "6      5       3           8        3  \n",
       "7     10       7           8        5  \n",
       "8      1       9           9        5  "
      ]
     },
     "execution_count": 3,
     "metadata": {},
     "output_type": "execute_result"
    }
   ],
   "source": [
    "# выведем таблицу на экран\n",
    "pd.set_option('display.max_colwidth', 120)\n",
    "hypothesis"
   ]
  },
  {
   "cell_type": "code",
   "execution_count": 4,
   "id": "ed593801",
   "metadata": {
    "scrolled": true
   },
   "outputs": [
    {
     "name": "stdout",
     "output_type": "stream",
     "text": [
      "<class 'pandas.core.frame.DataFrame'>\n",
      "RangeIndex: 9 entries, 0 to 8\n",
      "Data columns (total 5 columns):\n",
      " #   Column      Non-Null Count  Dtype \n",
      "---  ------      --------------  ----- \n",
      " 0   Hypothesis  9 non-null      object\n",
      " 1   Reach       9 non-null      int64 \n",
      " 2   Impact      9 non-null      int64 \n",
      " 3   Confidence  9 non-null      int64 \n",
      " 4   Efforts     9 non-null      int64 \n",
      "dtypes: int64(4), object(1)\n",
      "memory usage: 488.0+ bytes\n"
     ]
    }
   ],
   "source": [
    "# посмотрим информацию по датафрейму\n",
    "hypothesis.info()"
   ]
  },
  {
   "cell_type": "markdown",
   "id": "cf61ff08",
   "metadata": {},
   "source": [
    "В таблице видим необходимость переименовать столбцы (привести к нижнему регистру). Что касается типов данных, здесь все в порядке"
   ]
  },
  {
   "cell_type": "code",
   "execution_count": 5,
   "id": "5ed06384",
   "metadata": {},
   "outputs": [
    {
     "data": {
      "text/plain": [
       "Index(['hypothesis', 'reach', 'impact', 'confidence', 'efforts'], dtype='object')"
      ]
     },
     "execution_count": 5,
     "metadata": {},
     "output_type": "execute_result"
    }
   ],
   "source": [
    "# приводим названия столбцов к нижнему регистру, проверяем результат\n",
    "hypothesis.columns = hypothesis.columns.str.lower()\n",
    "hypothesis.columns"
   ]
  },
  {
   "cell_type": "code",
   "execution_count": 6,
   "id": "6bfe4ad8",
   "metadata": {},
   "outputs": [
    {
     "data": {
      "text/plain": [
       "hypothesis    0\n",
       "reach         0\n",
       "impact        0\n",
       "confidence    0\n",
       "efforts       0\n",
       "dtype: int64"
      ]
     },
     "execution_count": 6,
     "metadata": {},
     "output_type": "execute_result"
    }
   ],
   "source": [
    "# Посчитаем количество пропусков в каждом столбце датафрейма\n",
    "hypothesis.isna().sum()"
   ]
  },
  {
   "cell_type": "code",
   "execution_count": 7,
   "id": "c91c31a9",
   "metadata": {},
   "outputs": [
    {
     "data": {
      "text/plain": [
       "0"
      ]
     },
     "execution_count": 7,
     "metadata": {},
     "output_type": "execute_result"
    }
   ],
   "source": [
    "# посмотрим, есть ли дубликаты\n",
    "hypothesis.duplicated().sum()"
   ]
  },
  {
   "cell_type": "markdown",
   "id": "49329497",
   "metadata": {},
   "source": [
    "Пропусков и дубликатов в таблице нет"
   ]
  },
  {
   "cell_type": "code",
   "execution_count": 8,
   "id": "7e58a77a",
   "metadata": {},
   "outputs": [
    {
     "data": {
      "text/html": [
       "<div>\n",
       "<style scoped>\n",
       "    .dataframe tbody tr th:only-of-type {\n",
       "        vertical-align: middle;\n",
       "    }\n",
       "\n",
       "    .dataframe tbody tr th {\n",
       "        vertical-align: top;\n",
       "    }\n",
       "\n",
       "    .dataframe thead th {\n",
       "        text-align: right;\n",
       "    }\n",
       "</style>\n",
       "<table border=\"1\" class=\"dataframe\">\n",
       "  <thead>\n",
       "    <tr style=\"text-align: right;\">\n",
       "      <th></th>\n",
       "      <th>reach</th>\n",
       "      <th>impact</th>\n",
       "      <th>confidence</th>\n",
       "      <th>efforts</th>\n",
       "    </tr>\n",
       "  </thead>\n",
       "  <tbody>\n",
       "    <tr>\n",
       "      <th>count</th>\n",
       "      <td>9.000000</td>\n",
       "      <td>9.000000</td>\n",
       "      <td>9.000000</td>\n",
       "      <td>9.000000</td>\n",
       "    </tr>\n",
       "    <tr>\n",
       "      <th>mean</th>\n",
       "      <td>4.777778</td>\n",
       "      <td>4.777778</td>\n",
       "      <td>5.555556</td>\n",
       "      <td>4.888889</td>\n",
       "    </tr>\n",
       "    <tr>\n",
       "      <th>std</th>\n",
       "      <td>3.153481</td>\n",
       "      <td>3.192874</td>\n",
       "      <td>3.045944</td>\n",
       "      <td>2.803767</td>\n",
       "    </tr>\n",
       "    <tr>\n",
       "      <th>min</th>\n",
       "      <td>1.000000</td>\n",
       "      <td>1.000000</td>\n",
       "      <td>1.000000</td>\n",
       "      <td>1.000000</td>\n",
       "    </tr>\n",
       "    <tr>\n",
       "      <th>25%</th>\n",
       "      <td>3.000000</td>\n",
       "      <td>3.000000</td>\n",
       "      <td>3.000000</td>\n",
       "      <td>3.000000</td>\n",
       "    </tr>\n",
       "    <tr>\n",
       "      <th>50%</th>\n",
       "      <td>3.000000</td>\n",
       "      <td>3.000000</td>\n",
       "      <td>7.000000</td>\n",
       "      <td>5.000000</td>\n",
       "    </tr>\n",
       "    <tr>\n",
       "      <th>75%</th>\n",
       "      <td>8.000000</td>\n",
       "      <td>7.000000</td>\n",
       "      <td>8.000000</td>\n",
       "      <td>6.000000</td>\n",
       "    </tr>\n",
       "    <tr>\n",
       "      <th>max</th>\n",
       "      <td>10.000000</td>\n",
       "      <td>10.000000</td>\n",
       "      <td>9.000000</td>\n",
       "      <td>10.000000</td>\n",
       "    </tr>\n",
       "  </tbody>\n",
       "</table>\n",
       "</div>"
      ],
      "text/plain": [
       "           reach     impact  confidence    efforts\n",
       "count   9.000000   9.000000    9.000000   9.000000\n",
       "mean    4.777778   4.777778    5.555556   4.888889\n",
       "std     3.153481   3.192874    3.045944   2.803767\n",
       "min     1.000000   1.000000    1.000000   1.000000\n",
       "25%     3.000000   3.000000    3.000000   3.000000\n",
       "50%     3.000000   3.000000    7.000000   5.000000\n",
       "75%     8.000000   7.000000    8.000000   6.000000\n",
       "max    10.000000  10.000000    9.000000  10.000000"
      ]
     },
     "execution_count": 8,
     "metadata": {},
     "output_type": "execute_result"
    }
   ],
   "source": [
    "# проанализируем описательные статистики числовых столбцов на предмет аномальных (например, отрицательных) значений, \n",
    "#применив метод describe()\n",
    "hypothesis.describe()"
   ]
  },
  {
   "cell_type": "markdown",
   "id": "a96752e7",
   "metadata": {},
   "source": [
    "Аномальных значений, судя по таблице не наблюдается.\\\n",
    "\\\n",
    "Таким образом, мы провели предварительную обработку таблицы с гипотезами. В датасете изменили наименования столбцов(изменили регистр), в остальном, все данные и их структура представлены корректно."
   ]
  },
  {
   "cell_type": "markdown",
   "id": "193a2fa6",
   "metadata": {},
   "source": [
    "Обработаем таблицу с заказами"
   ]
  },
  {
   "cell_type": "code",
   "execution_count": 9,
   "id": "3d89f3c3",
   "metadata": {},
   "outputs": [],
   "source": [
    "try:\n",
    "    orders = pd.read_csv('/datasets/orders.csv')\n",
    "except:\n",
    "    orders = pd.read_csv('datasets/orders.csv')"
   ]
  },
  {
   "cell_type": "code",
   "execution_count": 10,
   "id": "e0238c68",
   "metadata": {},
   "outputs": [
    {
     "data": {
      "text/html": [
       "<div>\n",
       "<style scoped>\n",
       "    .dataframe tbody tr th:only-of-type {\n",
       "        vertical-align: middle;\n",
       "    }\n",
       "\n",
       "    .dataframe tbody tr th {\n",
       "        vertical-align: top;\n",
       "    }\n",
       "\n",
       "    .dataframe thead th {\n",
       "        text-align: right;\n",
       "    }\n",
       "</style>\n",
       "<table border=\"1\" class=\"dataframe\">\n",
       "  <thead>\n",
       "    <tr style=\"text-align: right;\">\n",
       "      <th></th>\n",
       "      <th>transactionId</th>\n",
       "      <th>visitorId</th>\n",
       "      <th>date</th>\n",
       "      <th>revenue</th>\n",
       "      <th>group</th>\n",
       "    </tr>\n",
       "  </thead>\n",
       "  <tbody>\n",
       "    <tr>\n",
       "      <th>0</th>\n",
       "      <td>3667963787</td>\n",
       "      <td>3312258926</td>\n",
       "      <td>2019-08-15</td>\n",
       "      <td>1650</td>\n",
       "      <td>B</td>\n",
       "    </tr>\n",
       "    <tr>\n",
       "      <th>1</th>\n",
       "      <td>2804400009</td>\n",
       "      <td>3642806036</td>\n",
       "      <td>2019-08-15</td>\n",
       "      <td>730</td>\n",
       "      <td>B</td>\n",
       "    </tr>\n",
       "    <tr>\n",
       "      <th>2</th>\n",
       "      <td>2961555356</td>\n",
       "      <td>4069496402</td>\n",
       "      <td>2019-08-15</td>\n",
       "      <td>400</td>\n",
       "      <td>A</td>\n",
       "    </tr>\n",
       "    <tr>\n",
       "      <th>3</th>\n",
       "      <td>3797467345</td>\n",
       "      <td>1196621759</td>\n",
       "      <td>2019-08-15</td>\n",
       "      <td>9759</td>\n",
       "      <td>B</td>\n",
       "    </tr>\n",
       "    <tr>\n",
       "      <th>4</th>\n",
       "      <td>2282983706</td>\n",
       "      <td>2322279887</td>\n",
       "      <td>2019-08-15</td>\n",
       "      <td>2308</td>\n",
       "      <td>B</td>\n",
       "    </tr>\n",
       "  </tbody>\n",
       "</table>\n",
       "</div>"
      ],
      "text/plain": [
       "   transactionId   visitorId        date  revenue group\n",
       "0     3667963787  3312258926  2019-08-15     1650     B\n",
       "1     2804400009  3642806036  2019-08-15      730     B\n",
       "2     2961555356  4069496402  2019-08-15      400     A\n",
       "3     3797467345  1196621759  2019-08-15     9759     B\n",
       "4     2282983706  2322279887  2019-08-15     2308     B"
      ]
     },
     "execution_count": 10,
     "metadata": {},
     "output_type": "execute_result"
    }
   ],
   "source": [
    "#посмотрим на содержимое таблицы, выведем первые 5 строк\n",
    "orders.head()"
   ]
  },
  {
   "cell_type": "code",
   "execution_count": 11,
   "id": "d44a932c",
   "metadata": {},
   "outputs": [
    {
     "name": "stdout",
     "output_type": "stream",
     "text": [
      "<class 'pandas.core.frame.DataFrame'>\n",
      "RangeIndex: 1197 entries, 0 to 1196\n",
      "Data columns (total 5 columns):\n",
      " #   Column         Non-Null Count  Dtype \n",
      "---  ------         --------------  ----- \n",
      " 0   transactionId  1197 non-null   int64 \n",
      " 1   visitorId      1197 non-null   int64 \n",
      " 2   date           1197 non-null   object\n",
      " 3   revenue        1197 non-null   int64 \n",
      " 4   group          1197 non-null   object\n",
      "dtypes: int64(3), object(2)\n",
      "memory usage: 46.9+ KB\n"
     ]
    }
   ],
   "source": [
    "#получим информацию по таблице\n",
    "orders.info()"
   ]
  },
  {
   "cell_type": "markdown",
   "id": "aea4f5f2",
   "metadata": {},
   "source": [
    "Здесь мы видим необходимость в замене названий столбцов и в изменении типа столбца 'date'(сейчас у него тип - 'object', заменим на формат даты)"
   ]
  },
  {
   "cell_type": "code",
   "execution_count": 12,
   "id": "eecd5a12",
   "metadata": {
    "scrolled": true
   },
   "outputs": [
    {
     "data": {
      "text/plain": [
       "Index(['transaction_id', 'visitor_id', 'date', 'revenue', 'group'], dtype='object')"
      ]
     },
     "execution_count": 12,
     "metadata": {},
     "output_type": "execute_result"
    }
   ],
   "source": [
    "# меняем названия столбцов на более читаемые\n",
    "orders = orders.rename(columns = {'transactionId': 'transaction_id', 'visitorId': 'visitor_id'})\n",
    "orders.columns"
   ]
  },
  {
   "cell_type": "code",
   "execution_count": 13,
   "id": "64f6ae2f",
   "metadata": {},
   "outputs": [],
   "source": [
    "# меняем тип данных для столбца 'date'\n",
    "orders['date'] = orders['date'].map(lambda x: dt.datetime.strptime(x, '%Y-%m-%d'))"
   ]
  },
  {
   "cell_type": "code",
   "execution_count": 14,
   "id": "c540c7d2",
   "metadata": {},
   "outputs": [
    {
     "data": {
      "text/plain": [
       "transaction_id    0\n",
       "visitor_id        0\n",
       "date              0\n",
       "revenue           0\n",
       "group             0\n",
       "dtype: int64"
      ]
     },
     "execution_count": 14,
     "metadata": {},
     "output_type": "execute_result"
    }
   ],
   "source": [
    "# Посчитаем количество пропусков в каждом столбце датафрейма\n",
    "orders.isna().sum()"
   ]
  },
  {
   "cell_type": "code",
   "execution_count": 15,
   "id": "82b7ae95",
   "metadata": {},
   "outputs": [
    {
     "data": {
      "text/plain": [
       "0"
      ]
     },
     "execution_count": 15,
     "metadata": {},
     "output_type": "execute_result"
    }
   ],
   "source": [
    "# посмотрим, есть ли дубликаты\n",
    "orders.duplicated().sum()"
   ]
  },
  {
   "cell_type": "code",
   "execution_count": 16,
   "id": "9c51753d",
   "metadata": {},
   "outputs": [
    {
     "data": {
      "text/html": [
       "<div>\n",
       "<style scoped>\n",
       "    .dataframe tbody tr th:only-of-type {\n",
       "        vertical-align: middle;\n",
       "    }\n",
       "\n",
       "    .dataframe tbody tr th {\n",
       "        vertical-align: top;\n",
       "    }\n",
       "\n",
       "    .dataframe thead th {\n",
       "        text-align: right;\n",
       "    }\n",
       "</style>\n",
       "<table border=\"1\" class=\"dataframe\">\n",
       "  <thead>\n",
       "    <tr style=\"text-align: right;\">\n",
       "      <th></th>\n",
       "      <th>transaction_id</th>\n",
       "      <th>visitor_id</th>\n",
       "      <th>revenue</th>\n",
       "    </tr>\n",
       "  </thead>\n",
       "  <tbody>\n",
       "    <tr>\n",
       "      <th>count</th>\n",
       "      <td>1.197000e+03</td>\n",
       "      <td>1.197000e+03</td>\n",
       "      <td>1.197000e+03</td>\n",
       "    </tr>\n",
       "    <tr>\n",
       "      <th>mean</th>\n",
       "      <td>2.155621e+09</td>\n",
       "      <td>2.165960e+09</td>\n",
       "      <td>8.348006e+03</td>\n",
       "    </tr>\n",
       "    <tr>\n",
       "      <th>std</th>\n",
       "      <td>1.229085e+09</td>\n",
       "      <td>1.236014e+09</td>\n",
       "      <td>3.919113e+04</td>\n",
       "    </tr>\n",
       "    <tr>\n",
       "      <th>min</th>\n",
       "      <td>1.062393e+06</td>\n",
       "      <td>5.114589e+06</td>\n",
       "      <td>5.000000e+01</td>\n",
       "    </tr>\n",
       "    <tr>\n",
       "      <th>25%</th>\n",
       "      <td>1.166776e+09</td>\n",
       "      <td>1.111826e+09</td>\n",
       "      <td>1.220000e+03</td>\n",
       "    </tr>\n",
       "    <tr>\n",
       "      <th>50%</th>\n",
       "      <td>2.145194e+09</td>\n",
       "      <td>2.217985e+09</td>\n",
       "      <td>2.978000e+03</td>\n",
       "    </tr>\n",
       "    <tr>\n",
       "      <th>75%</th>\n",
       "      <td>3.237740e+09</td>\n",
       "      <td>3.177606e+09</td>\n",
       "      <td>8.290000e+03</td>\n",
       "    </tr>\n",
       "    <tr>\n",
       "      <th>max</th>\n",
       "      <td>4.293856e+09</td>\n",
       "      <td>4.283872e+09</td>\n",
       "      <td>1.294500e+06</td>\n",
       "    </tr>\n",
       "  </tbody>\n",
       "</table>\n",
       "</div>"
      ],
      "text/plain": [
       "       transaction_id    visitor_id       revenue\n",
       "count    1.197000e+03  1.197000e+03  1.197000e+03\n",
       "mean     2.155621e+09  2.165960e+09  8.348006e+03\n",
       "std      1.229085e+09  1.236014e+09  3.919113e+04\n",
       "min      1.062393e+06  5.114589e+06  5.000000e+01\n",
       "25%      1.166776e+09  1.111826e+09  1.220000e+03\n",
       "50%      2.145194e+09  2.217985e+09  2.978000e+03\n",
       "75%      3.237740e+09  3.177606e+09  8.290000e+03\n",
       "max      4.293856e+09  4.283872e+09  1.294500e+06"
      ]
     },
     "execution_count": 16,
     "metadata": {},
     "output_type": "execute_result"
    }
   ],
   "source": [
    "# проанализируем описательные статистики числовых столбцов на предмет аномальных значений, применив метод describe()\n",
    "orders.describe()"
   ]
  },
  {
   "cell_type": "code",
   "execution_count": 17,
   "id": "e3862261",
   "metadata": {},
   "outputs": [
    {
     "data": {
      "text/plain": [
       "Timestamp('2019-08-01 00:00:00')"
      ]
     },
     "execution_count": 17,
     "metadata": {},
     "output_type": "execute_result"
    }
   ],
   "source": [
    "# посмотрим также границы дат\n",
    "min_date = orders['date'].min()\n",
    "min_date"
   ]
  },
  {
   "cell_type": "code",
   "execution_count": 18,
   "id": "1d97e03a",
   "metadata": {},
   "outputs": [
    {
     "data": {
      "text/plain": [
       "Timestamp('2019-08-31 00:00:00')"
      ]
     },
     "execution_count": 18,
     "metadata": {},
     "output_type": "execute_result"
    }
   ],
   "source": [
    "max_date = orders['date'].max()\n",
    "max_date"
   ]
  },
  {
   "cell_type": "code",
   "execution_count": 19,
   "id": "9676df95",
   "metadata": {},
   "outputs": [
    {
     "data": {
      "text/plain": [
       "58"
      ]
     },
     "execution_count": 19,
     "metadata": {},
     "output_type": "execute_result"
    }
   ],
   "source": [
    "group_a_orders = orders.query('group==\"A\"')\n",
    "group_b_orders = orders.query('group==\"B\"')\n",
    "group_ab_orders = list(np.intersect1d(group_a_orders['visitor_id'], group_b_orders['visitor_id']))\n",
    "len(group_ab_orders)"
   ]
  },
  {
   "cell_type": "code",
   "execution_count": 20,
   "id": "c39598d2",
   "metadata": {},
   "outputs": [],
   "source": [
    "orders = orders.query('visitor_id not in @group_ab_orders')"
   ]
  },
  {
   "cell_type": "code",
   "execution_count": 21,
   "id": "3ebf9307",
   "metadata": {},
   "outputs": [
    {
     "data": {
      "text/plain": [
       "0"
      ]
     },
     "execution_count": 21,
     "metadata": {},
     "output_type": "execute_result"
    }
   ],
   "source": [
    "group_a_orders = orders.query('group==\"A\"')\n",
    "group_b_orders = orders.query('group==\"B\"')\n",
    "group_ab_orders = list(np.intersect1d(group_a_orders['visitor_id'], group_b_orders['visitor_id']))\n",
    "len(group_ab_orders)"
   ]
  },
  {
   "cell_type": "markdown",
   "id": "0e2238d7",
   "metadata": {},
   "source": [
    "Таким образом, мы провели предварительную обработку таблицы с заказами. Были заменены названия двух столбцов, изменен тип данных в столбце 'date'. Пропусков, дубликатов, отрицательных значений мы не обнаружили. Проверили границы дат эксперимента - с 01.08.2019 по 31.08.2019. При этом мы обнаружили некорректное разделение пользователей по группам - 58 пользователей попали сразу в две группы. Поскольку это могло негативно отразиться на результатах теста (исказить их), было принято решение об удалении этих пользователей из общей таблицы."
   ]
  },
  {
   "cell_type": "markdown",
   "id": "968a3189",
   "metadata": {},
   "source": [
    "Проведем предобработку данных для таблицы с посетителями"
   ]
  },
  {
   "cell_type": "code",
   "execution_count": 22,
   "id": "9a819b64",
   "metadata": {},
   "outputs": [],
   "source": [
    "try:\n",
    "    visitors = pd.read_csv('/datasets/visitors.csv')\n",
    "except:\n",
    "    visitors = pd.read_csv('datasets/visitors.csv')"
   ]
  },
  {
   "cell_type": "code",
   "execution_count": 23,
   "id": "5d2e3fd0",
   "metadata": {},
   "outputs": [
    {
     "data": {
      "text/html": [
       "<div>\n",
       "<style scoped>\n",
       "    .dataframe tbody tr th:only-of-type {\n",
       "        vertical-align: middle;\n",
       "    }\n",
       "\n",
       "    .dataframe tbody tr th {\n",
       "        vertical-align: top;\n",
       "    }\n",
       "\n",
       "    .dataframe thead th {\n",
       "        text-align: right;\n",
       "    }\n",
       "</style>\n",
       "<table border=\"1\" class=\"dataframe\">\n",
       "  <thead>\n",
       "    <tr style=\"text-align: right;\">\n",
       "      <th></th>\n",
       "      <th>date</th>\n",
       "      <th>group</th>\n",
       "      <th>visitors</th>\n",
       "    </tr>\n",
       "  </thead>\n",
       "  <tbody>\n",
       "    <tr>\n",
       "      <th>0</th>\n",
       "      <td>2019-08-01</td>\n",
       "      <td>A</td>\n",
       "      <td>719</td>\n",
       "    </tr>\n",
       "    <tr>\n",
       "      <th>1</th>\n",
       "      <td>2019-08-02</td>\n",
       "      <td>A</td>\n",
       "      <td>619</td>\n",
       "    </tr>\n",
       "    <tr>\n",
       "      <th>2</th>\n",
       "      <td>2019-08-03</td>\n",
       "      <td>A</td>\n",
       "      <td>507</td>\n",
       "    </tr>\n",
       "    <tr>\n",
       "      <th>3</th>\n",
       "      <td>2019-08-04</td>\n",
       "      <td>A</td>\n",
       "      <td>717</td>\n",
       "    </tr>\n",
       "    <tr>\n",
       "      <th>4</th>\n",
       "      <td>2019-08-05</td>\n",
       "      <td>A</td>\n",
       "      <td>756</td>\n",
       "    </tr>\n",
       "  </tbody>\n",
       "</table>\n",
       "</div>"
      ],
      "text/plain": [
       "         date group  visitors\n",
       "0  2019-08-01     A       719\n",
       "1  2019-08-02     A       619\n",
       "2  2019-08-03     A       507\n",
       "3  2019-08-04     A       717\n",
       "4  2019-08-05     A       756"
      ]
     },
     "execution_count": 23,
     "metadata": {},
     "output_type": "execute_result"
    }
   ],
   "source": [
    "#посмотрим на содержимое таблицы, выведем первые 5 строк\n",
    "visitors.head()"
   ]
  },
  {
   "cell_type": "code",
   "execution_count": 24,
   "id": "adf2c48f",
   "metadata": {},
   "outputs": [
    {
     "name": "stdout",
     "output_type": "stream",
     "text": [
      "<class 'pandas.core.frame.DataFrame'>\n",
      "RangeIndex: 62 entries, 0 to 61\n",
      "Data columns (total 3 columns):\n",
      " #   Column    Non-Null Count  Dtype \n",
      "---  ------    --------------  ----- \n",
      " 0   date      62 non-null     object\n",
      " 1   group     62 non-null     object\n",
      " 2   visitors  62 non-null     int64 \n",
      "dtypes: int64(1), object(2)\n",
      "memory usage: 1.6+ KB\n"
     ]
    }
   ],
   "source": [
    "#получим информацию по таблице\n",
    "visitors.info()"
   ]
  },
  {
   "cell_type": "markdown",
   "id": "c688a7bf",
   "metadata": {},
   "source": [
    "Здесь мы видим необходимость в замене типа столбца 'date'(сейчас у него тип - 'object', заменим на формат даты)"
   ]
  },
  {
   "cell_type": "code",
   "execution_count": 25,
   "id": "1675f51b",
   "metadata": {},
   "outputs": [],
   "source": [
    "visitors['date'] = visitors['date'].map(lambda x: dt.datetime.strptime(x, '%Y-%m-%d'))"
   ]
  },
  {
   "cell_type": "code",
   "execution_count": 26,
   "id": "64f1acb3",
   "metadata": {},
   "outputs": [
    {
     "data": {
      "text/plain": [
       "date        0\n",
       "group       0\n",
       "visitors    0\n",
       "dtype: int64"
      ]
     },
     "execution_count": 26,
     "metadata": {},
     "output_type": "execute_result"
    }
   ],
   "source": [
    "# Посчитаем количество пропусков в каждом столбце датафрейма\n",
    "visitors.isna().sum()"
   ]
  },
  {
   "cell_type": "code",
   "execution_count": 27,
   "id": "8d496413",
   "metadata": {},
   "outputs": [
    {
     "data": {
      "text/plain": [
       "0"
      ]
     },
     "execution_count": 27,
     "metadata": {},
     "output_type": "execute_result"
    }
   ],
   "source": [
    "# посмотрим, есть ли дубликаты\n",
    "visitors.duplicated().sum()"
   ]
  },
  {
   "cell_type": "code",
   "execution_count": 28,
   "id": "d6d042d8",
   "metadata": {
    "scrolled": true
   },
   "outputs": [
    {
     "data": {
      "text/html": [
       "<div>\n",
       "<style scoped>\n",
       "    .dataframe tbody tr th:only-of-type {\n",
       "        vertical-align: middle;\n",
       "    }\n",
       "\n",
       "    .dataframe tbody tr th {\n",
       "        vertical-align: top;\n",
       "    }\n",
       "\n",
       "    .dataframe thead th {\n",
       "        text-align: right;\n",
       "    }\n",
       "</style>\n",
       "<table border=\"1\" class=\"dataframe\">\n",
       "  <thead>\n",
       "    <tr style=\"text-align: right;\">\n",
       "      <th></th>\n",
       "      <th>visitors</th>\n",
       "    </tr>\n",
       "  </thead>\n",
       "  <tbody>\n",
       "    <tr>\n",
       "      <th>count</th>\n",
       "      <td>62.000000</td>\n",
       "    </tr>\n",
       "    <tr>\n",
       "      <th>mean</th>\n",
       "      <td>607.290323</td>\n",
       "    </tr>\n",
       "    <tr>\n",
       "      <th>std</th>\n",
       "      <td>114.400560</td>\n",
       "    </tr>\n",
       "    <tr>\n",
       "      <th>min</th>\n",
       "      <td>361.000000</td>\n",
       "    </tr>\n",
       "    <tr>\n",
       "      <th>25%</th>\n",
       "      <td>534.000000</td>\n",
       "    </tr>\n",
       "    <tr>\n",
       "      <th>50%</th>\n",
       "      <td>624.500000</td>\n",
       "    </tr>\n",
       "    <tr>\n",
       "      <th>75%</th>\n",
       "      <td>710.500000</td>\n",
       "    </tr>\n",
       "    <tr>\n",
       "      <th>max</th>\n",
       "      <td>770.000000</td>\n",
       "    </tr>\n",
       "  </tbody>\n",
       "</table>\n",
       "</div>"
      ],
      "text/plain": [
       "         visitors\n",
       "count   62.000000\n",
       "mean   607.290323\n",
       "std    114.400560\n",
       "min    361.000000\n",
       "25%    534.000000\n",
       "50%    624.500000\n",
       "75%    710.500000\n",
       "max    770.000000"
      ]
     },
     "execution_count": 28,
     "metadata": {},
     "output_type": "execute_result"
    }
   ],
   "source": [
    "# проанализируем описательные статистики числовых столбцов на предмет аномальных значений, применив метод describe()\n",
    "visitors.describe()"
   ]
  },
  {
   "cell_type": "code",
   "execution_count": 29,
   "id": "d72d2694",
   "metadata": {},
   "outputs": [
    {
     "data": {
      "text/plain": [
       "Timestamp('2019-08-01 00:00:00')"
      ]
     },
     "execution_count": 29,
     "metadata": {},
     "output_type": "execute_result"
    }
   ],
   "source": [
    "# определим границы дат\n",
    "min_date = visitors['date'].min()\n",
    "min_date"
   ]
  },
  {
   "cell_type": "code",
   "execution_count": 30,
   "id": "bcb3ebdd",
   "metadata": {
    "scrolled": true
   },
   "outputs": [
    {
     "data": {
      "text/plain": [
       "Timestamp('2019-08-31 00:00:00')"
      ]
     },
     "execution_count": 30,
     "metadata": {},
     "output_type": "execute_result"
    }
   ],
   "source": [
    "max_date = visitors['date'].max()\n",
    "max_date"
   ]
  },
  {
   "cell_type": "markdown",
   "id": "f10326d2",
   "metadata": {},
   "source": [
    "Таким образом, мы провели предварительную обработку таблицы с посещениями. Были изменен тип данных в столбце 'date'. Пропусков, дубликатов, отрицательных значений мы не обнаружили. Проверили границы дат - с 01.08.2019 по 31.08.2019, они совпадают с датами из таблицы с заказами. \\\n",
    "Все датафреймы подготовлены к дальнешему исследованию"
   ]
  },
  {
   "cell_type": "markdown",
   "id": "13c27ac2",
   "metadata": {},
   "source": [
    "## Часть 2. Приоритизация гипотез\n",
    "\\\n",
    "**Задача**\\\n",
    "Применим фреймворк ICE для приоритизации гипотез (умножим значение impact (влияние на пользователей ) на confidence (уверенность по гипотезе) и разделим на efforts (затраты ресурсов на проверку гипотезы)). Отсортируем их по убыванию приоритета."
   ]
  },
  {
   "cell_type": "code",
   "execution_count": 31,
   "id": "4a3c0dc9",
   "metadata": {
    "scrolled": true
   },
   "outputs": [
    {
     "data": {
      "text/html": [
       "<div>\n",
       "<style scoped>\n",
       "    .dataframe tbody tr th:only-of-type {\n",
       "        vertical-align: middle;\n",
       "    }\n",
       "\n",
       "    .dataframe tbody tr th {\n",
       "        vertical-align: top;\n",
       "    }\n",
       "\n",
       "    .dataframe thead th {\n",
       "        text-align: right;\n",
       "    }\n",
       "</style>\n",
       "<table border=\"1\" class=\"dataframe\">\n",
       "  <thead>\n",
       "    <tr style=\"text-align: right;\">\n",
       "      <th></th>\n",
       "      <th>hypothesis</th>\n",
       "      <th>ICE</th>\n",
       "    </tr>\n",
       "  </thead>\n",
       "  <tbody>\n",
       "    <tr>\n",
       "      <th>8</th>\n",
       "      <td>Запустить акцию, дающую скидку на товар в день рождения</td>\n",
       "      <td>16.20</td>\n",
       "    </tr>\n",
       "    <tr>\n",
       "      <th>0</th>\n",
       "      <td>Добавить два новых канала привлечения трафика, что позволит привлекать на 30% больше пользователей</td>\n",
       "      <td>13.33</td>\n",
       "    </tr>\n",
       "    <tr>\n",
       "      <th>7</th>\n",
       "      <td>Добавить форму подписки на все основные страницы, чтобы собрать базу клиентов для email-рассылок</td>\n",
       "      <td>11.20</td>\n",
       "    </tr>\n",
       "    <tr>\n",
       "      <th>6</th>\n",
       "      <td>Показать на главной странице баннеры с актуальными акциями и распродажами, чтобы увеличить конверсию</td>\n",
       "      <td>8.00</td>\n",
       "    </tr>\n",
       "    <tr>\n",
       "      <th>2</th>\n",
       "      <td>Добавить блоки рекомендаций товаров на сайт интернет магазина, чтобы повысить конверсию и средний чек заказа</td>\n",
       "      <td>7.00</td>\n",
       "    </tr>\n",
       "    <tr>\n",
       "      <th>1</th>\n",
       "      <td>Запустить собственную службу доставки, что сократит срок доставки заказов</td>\n",
       "      <td>2.00</td>\n",
       "    </tr>\n",
       "    <tr>\n",
       "      <th>5</th>\n",
       "      <td>Добавить страницу отзывов клиентов о магазине, что позволит увеличить количество заказов</td>\n",
       "      <td>1.33</td>\n",
       "    </tr>\n",
       "    <tr>\n",
       "      <th>3</th>\n",
       "      <td>Изменить структура категорий, что увеличит конверсию, т.к. пользователи быстрее найдут нужный товар</td>\n",
       "      <td>1.12</td>\n",
       "    </tr>\n",
       "    <tr>\n",
       "      <th>4</th>\n",
       "      <td>Изменить цвет фона главной страницы, чтобы увеличить вовлеченность пользователей</td>\n",
       "      <td>1.00</td>\n",
       "    </tr>\n",
       "  </tbody>\n",
       "</table>\n",
       "</div>"
      ],
      "text/plain": [
       "                                                                                                     hypothesis  \\\n",
       "8                                                       Запустить акцию, дающую скидку на товар в день рождения   \n",
       "0            Добавить два новых канала привлечения трафика, что позволит привлекать на 30% больше пользователей   \n",
       "7              Добавить форму подписки на все основные страницы, чтобы собрать базу клиентов для email-рассылок   \n",
       "6          Показать на главной странице баннеры с актуальными акциями и распродажами, чтобы увеличить конверсию   \n",
       "2  Добавить блоки рекомендаций товаров на сайт интернет магазина, чтобы повысить конверсию и средний чек заказа   \n",
       "1                                     Запустить собственную службу доставки, что сократит срок доставки заказов   \n",
       "5                      Добавить страницу отзывов клиентов о магазине, что позволит увеличить количество заказов   \n",
       "3           Изменить структура категорий, что увеличит конверсию, т.к. пользователи быстрее найдут нужный товар   \n",
       "4                              Изменить цвет фона главной страницы, чтобы увеличить вовлеченность пользователей   \n",
       "\n",
       "     ICE  \n",
       "8  16.20  \n",
       "0  13.33  \n",
       "7  11.20  \n",
       "6   8.00  \n",
       "2   7.00  \n",
       "1   2.00  \n",
       "5   1.33  \n",
       "3   1.12  \n",
       "4   1.00  "
      ]
     },
     "execution_count": 31,
     "metadata": {},
     "output_type": "execute_result"
    }
   ],
   "source": [
    "hypothesis['ICE']= round(hypothesis['impact']*hypothesis['confidence']/hypothesis['efforts'],2)\n",
    "hypothesis[['hypothesis', 'ICE']].sort_values(by='ICE', ascending=False)"
   ]
  },
  {
   "cell_type": "markdown",
   "id": "7dc848fb",
   "metadata": {},
   "source": [
    "Из таблицы видно, что наибольший приоритет при использовании фреймворка ICE получили 8-ая, 0-ая и 7-ая гипотезы"
   ]
  },
  {
   "cell_type": "markdown",
   "id": "1fbfc8c0",
   "metadata": {},
   "source": [
    "Применим фреймворк RICE для приоритизации гипотез (умножим значение reach (охват пользователей) на impact (влияние на пользователей ) на confidence (уверенность по гипотезе) и разделим произведение на efforts (затраты ресурсов на проверку гипотезы)). Отсортируем их по убыванию приоритета."
   ]
  },
  {
   "cell_type": "code",
   "execution_count": 32,
   "id": "a9891bd5",
   "metadata": {},
   "outputs": [
    {
     "data": {
      "text/html": [
       "<div>\n",
       "<style scoped>\n",
       "    .dataframe tbody tr th:only-of-type {\n",
       "        vertical-align: middle;\n",
       "    }\n",
       "\n",
       "    .dataframe tbody tr th {\n",
       "        vertical-align: top;\n",
       "    }\n",
       "\n",
       "    .dataframe thead th {\n",
       "        text-align: right;\n",
       "    }\n",
       "</style>\n",
       "<table border=\"1\" class=\"dataframe\">\n",
       "  <thead>\n",
       "    <tr style=\"text-align: right;\">\n",
       "      <th></th>\n",
       "      <th>hypothesis</th>\n",
       "      <th>RICE</th>\n",
       "    </tr>\n",
       "  </thead>\n",
       "  <tbody>\n",
       "    <tr>\n",
       "      <th>7</th>\n",
       "      <td>Добавить форму подписки на все основные страницы, чтобы собрать базу клиентов для email-рассылок</td>\n",
       "      <td>112.0</td>\n",
       "    </tr>\n",
       "    <tr>\n",
       "      <th>2</th>\n",
       "      <td>Добавить блоки рекомендаций товаров на сайт интернет магазина, чтобы повысить конверсию и средний чек заказа</td>\n",
       "      <td>56.0</td>\n",
       "    </tr>\n",
       "    <tr>\n",
       "      <th>0</th>\n",
       "      <td>Добавить два новых канала привлечения трафика, что позволит привлекать на 30% больше пользователей</td>\n",
       "      <td>40.0</td>\n",
       "    </tr>\n",
       "    <tr>\n",
       "      <th>6</th>\n",
       "      <td>Показать на главной странице баннеры с актуальными акциями и распродажами, чтобы увеличить конверсию</td>\n",
       "      <td>40.0</td>\n",
       "    </tr>\n",
       "    <tr>\n",
       "      <th>8</th>\n",
       "      <td>Запустить акцию, дающую скидку на товар в день рождения</td>\n",
       "      <td>16.2</td>\n",
       "    </tr>\n",
       "    <tr>\n",
       "      <th>3</th>\n",
       "      <td>Изменить структура категорий, что увеличит конверсию, т.к. пользователи быстрее найдут нужный товар</td>\n",
       "      <td>9.0</td>\n",
       "    </tr>\n",
       "    <tr>\n",
       "      <th>1</th>\n",
       "      <td>Запустить собственную службу доставки, что сократит срок доставки заказов</td>\n",
       "      <td>4.0</td>\n",
       "    </tr>\n",
       "    <tr>\n",
       "      <th>5</th>\n",
       "      <td>Добавить страницу отзывов клиентов о магазине, что позволит увеличить количество заказов</td>\n",
       "      <td>4.0</td>\n",
       "    </tr>\n",
       "    <tr>\n",
       "      <th>4</th>\n",
       "      <td>Изменить цвет фона главной страницы, чтобы увеличить вовлеченность пользователей</td>\n",
       "      <td>3.0</td>\n",
       "    </tr>\n",
       "  </tbody>\n",
       "</table>\n",
       "</div>"
      ],
      "text/plain": [
       "                                                                                                     hypothesis  \\\n",
       "7              Добавить форму подписки на все основные страницы, чтобы собрать базу клиентов для email-рассылок   \n",
       "2  Добавить блоки рекомендаций товаров на сайт интернет магазина, чтобы повысить конверсию и средний чек заказа   \n",
       "0            Добавить два новых канала привлечения трафика, что позволит привлекать на 30% больше пользователей   \n",
       "6          Показать на главной странице баннеры с актуальными акциями и распродажами, чтобы увеличить конверсию   \n",
       "8                                                       Запустить акцию, дающую скидку на товар в день рождения   \n",
       "3           Изменить структура категорий, что увеличит конверсию, т.к. пользователи быстрее найдут нужный товар   \n",
       "1                                     Запустить собственную службу доставки, что сократит срок доставки заказов   \n",
       "5                      Добавить страницу отзывов клиентов о магазине, что позволит увеличить количество заказов   \n",
       "4                              Изменить цвет фона главной страницы, чтобы увеличить вовлеченность пользователей   \n",
       "\n",
       "    RICE  \n",
       "7  112.0  \n",
       "2   56.0  \n",
       "0   40.0  \n",
       "6   40.0  \n",
       "8   16.2  \n",
       "3    9.0  \n",
       "1    4.0  \n",
       "5    4.0  \n",
       "4    3.0  "
      ]
     },
     "execution_count": 32,
     "metadata": {},
     "output_type": "execute_result"
    }
   ],
   "source": [
    "hypothesis['RICE']=hypothesis['reach']*hypothesis['impact']*hypothesis['confidence']/hypothesis['efforts']\n",
    "hypothesis[['hypothesis', 'RICE']].sort_values(by='RICE', ascending=False)"
   ]
  },
  {
   "cell_type": "markdown",
   "id": "a2df209e",
   "metadata": {},
   "source": [
    "Видим, что приоритизация гипотез при применении RICE вместо ICE изменилась - здесь наибольшее количество баллов получили гипотезы под номерами 7, 2 и 0. Это связано с тем, что при рассчете RICE мы учитываем оценку числа пользователей, и чем их больше, тем больше значение RICE. Так, если гипотеза о добавлении формы подписки на все основные страницы, чтобы собрать базу клиентов для email-рассылок коснется всех пользователей (поэтому и параметр reach у нее большоей и итоговый показатель RICE максимальный), то гипотеза о запуске акции, дающей скидку на день рождения (занимает первое место в фреймворке ICE), имеет не высокий охват и в фреймворке RICE занимает лишь пятое место.\\\n",
    "В целом, и первый и второй фреймворк показывают наиболее приоритетными для проверки гипотезы с номерами 7,0 и 6 (занимает 4-ое место при использовании обоих фреймворков):\n",
    "- Добавить форму подписки на все основные страницы, чтобы собрать базу клиентов для email-рассылок;\n",
    "- Добавить два новых канала привлечения трафика, что позволит привлекать на 30% больше пользователей;\n",
    "- Показать на главной странице баннеры с актуальными акциями и распродажами, чтобы увеличить конверсию"
   ]
  },
  {
   "cell_type": "markdown",
   "id": "9b33beca",
   "metadata": {},
   "source": [
    "## Часть 3. Анализ A/B-теста"
   ]
  },
  {
   "cell_type": "markdown",
   "id": "9c0cd81b",
   "metadata": {},
   "source": [
    "- Построим график кумулятивной выручки по группам"
   ]
  },
  {
   "cell_type": "markdown",
   "id": "85fdaf12",
   "metadata": {},
   "source": [
    "Чтобы построить графики, нужно собрать кумулятивные данные. \\ Объявим датафрейм cumulativeData со столбцами: \\\n",
    "date — дата;\\\n",
    "group — группа A/B-теста (A или B);\\\n",
    "orders — кумулятивное количество заказов на указанную дату в указанной группе;\\\n",
    "buyers — кумулятивное количество пользователей, совершивших хотя бы один заказ, на указанную дату в указанной группе;\\\n",
    "revenue — кумулятивная выручка на указанную дату в указанной группе (средний чек);\\\n",
    "visitors — кумулятивное количество посетителей интернет-магазина на указанную дату в определённой группе.\\\n",
    "Создадим массив уникальных пар значений дат и групп теста методом drop_duplicates(): "
   ]
  },
  {
   "cell_type": "markdown",
   "id": "972f90d7",
   "metadata": {},
   "source": [
    "- Постройте график кумулятивной выручки по группам. Сделайте выводы и предположения."
   ]
  },
  {
   "cell_type": "code",
   "execution_count": 33,
   "id": "2ad049e0",
   "metadata": {},
   "outputs": [],
   "source": [
    "# создаем массив уникальных пар значений дат и групп теста\n",
    "datesGroups = orders[['date','group']].drop_duplicates()"
   ]
  },
  {
   "cell_type": "code",
   "execution_count": 34,
   "id": "9d2c8c7b",
   "metadata": {},
   "outputs": [
    {
     "data": {
      "text/html": [
       "<div>\n",
       "<style scoped>\n",
       "    .dataframe tbody tr th:only-of-type {\n",
       "        vertical-align: middle;\n",
       "    }\n",
       "\n",
       "    .dataframe tbody tr th {\n",
       "        vertical-align: top;\n",
       "    }\n",
       "\n",
       "    .dataframe thead th {\n",
       "        text-align: right;\n",
       "    }\n",
       "</style>\n",
       "<table border=\"1\" class=\"dataframe\">\n",
       "  <thead>\n",
       "    <tr style=\"text-align: right;\">\n",
       "      <th></th>\n",
       "      <th>date</th>\n",
       "      <th>group</th>\n",
       "      <th>orders</th>\n",
       "      <th>buyers</th>\n",
       "      <th>revenue</th>\n",
       "      <th>visitors</th>\n",
       "    </tr>\n",
       "  </thead>\n",
       "  <tbody>\n",
       "    <tr>\n",
       "      <th>0</th>\n",
       "      <td>2019-08-01</td>\n",
       "      <td>A</td>\n",
       "      <td>23</td>\n",
       "      <td>19</td>\n",
       "      <td>142779</td>\n",
       "      <td>719</td>\n",
       "    </tr>\n",
       "    <tr>\n",
       "      <th>1</th>\n",
       "      <td>2019-08-01</td>\n",
       "      <td>B</td>\n",
       "      <td>17</td>\n",
       "      <td>17</td>\n",
       "      <td>59758</td>\n",
       "      <td>713</td>\n",
       "    </tr>\n",
       "    <tr>\n",
       "      <th>2</th>\n",
       "      <td>2019-08-02</td>\n",
       "      <td>A</td>\n",
       "      <td>42</td>\n",
       "      <td>36</td>\n",
       "      <td>234381</td>\n",
       "      <td>1338</td>\n",
       "    </tr>\n",
       "    <tr>\n",
       "      <th>3</th>\n",
       "      <td>2019-08-02</td>\n",
       "      <td>B</td>\n",
       "      <td>40</td>\n",
       "      <td>39</td>\n",
       "      <td>221801</td>\n",
       "      <td>1294</td>\n",
       "    </tr>\n",
       "    <tr>\n",
       "      <th>4</th>\n",
       "      <td>2019-08-03</td>\n",
       "      <td>A</td>\n",
       "      <td>66</td>\n",
       "      <td>60</td>\n",
       "      <td>346854</td>\n",
       "      <td>1845</td>\n",
       "    </tr>\n",
       "  </tbody>\n",
       "</table>\n",
       "</div>"
      ],
      "text/plain": [
       "        date group  orders  buyers  revenue  visitors\n",
       "0 2019-08-01     A      23      19   142779       719\n",
       "1 2019-08-01     B      17      17    59758       713\n",
       "2 2019-08-02     A      42      36   234381      1338\n",
       "3 2019-08-02     B      40      39   221801      1294\n",
       "4 2019-08-03     A      66      60   346854      1845"
      ]
     },
     "execution_count": 34,
     "metadata": {},
     "output_type": "execute_result"
    }
   ],
   "source": [
    "# получаем агрегированные кумулятивные по дням данные о заказах \n",
    "ordersAggregated = datesGroups.apply(lambda x: orders[np.logical_and(orders['date'] <= x['date'], orders['group'] == x['group'])].agg({'date' : 'max', 'group' : 'max', 'transaction_id' : 'nunique', 'visitor_id' : 'nunique', 'revenue' : 'sum'}), axis=1).sort_values(by=['date','group'])\n",
    "\n",
    "# получаем агрегированные кумулятивные по дням данные о посетителях интернет-магазина \n",
    "visitorsAggregated = datesGroups.apply(lambda x: visitors[np.logical_and(visitors['date'] <= x['date'], visitors['group'] == x['group'])].agg({'date' : 'max', 'group' : 'max', 'visitors' : 'sum'}), axis=1).sort_values(by=['date','group'])\n",
    "\n",
    "# объединяем кумулятивные данные в одной таблице и присваиваем ее столбцам понятные названия\n",
    "cumulativeData = ordersAggregated.merge(visitorsAggregated, left_on=['date', 'group'], right_on=['date', 'group'])\n",
    "cumulativeData.columns = ['date', 'group', 'orders', 'buyers', 'revenue', 'visitors']\n",
    "\n",
    "cumulativeData.head(5)"
   ]
  },
  {
   "cell_type": "markdown",
   "id": "5a467ea3",
   "metadata": {},
   "source": [
    "Таким образом, мы получили таблицу с кумулятивными данными по числу заказов, покупателей, посетителей и стоимости заказов по каждому дню недели\\\n",
    "Теперь построим график кумулятивной выручки для каждой группы"
   ]
  },
  {
   "cell_type": "code",
   "execution_count": 35,
   "id": "37a97cd3",
   "metadata": {},
   "outputs": [
    {
     "data": {
      "text/plain": [
       "<matplotlib.legend.Legend at 0x2d6710eb5b0>"
      ]
     },
     "execution_count": 35,
     "metadata": {},
     "output_type": "execute_result"
    },
    {
     "data": {
      "image/png": "[encoded data removed]",
      "text/plain": [
       "<Figure size 2000x1000 with 1 Axes>"
      ]
     },
     "metadata": {},
     "output_type": "display_data"
    }
   ],
   "source": [
    "#  зададим размер графика\n",
    "plt.figure(figsize=(20,10))\n",
    "# датафрейм с кумулятивным количеством заказов и кумулятивной выручкой по дням в группе А\n",
    "cumulativeRevenueA = cumulativeData[cumulativeData['group']=='A'][['date','revenue', 'orders']]\n",
    "\n",
    "# датафрейм с кумулятивным количеством заказов и кумулятивной выручкой по дням в группе B\n",
    "cumulativeRevenueB = cumulativeData[cumulativeData['group']=='B'][['date','revenue', 'orders']]\n",
    "\n",
    "# Строим график выручки группы А\n",
    "plt.plot(cumulativeRevenueA['date'], cumulativeRevenueA['revenue'], label='A')\n",
    "\n",
    "# Строим график выручки группы B\n",
    "plt.plot(cumulativeRevenueB['date'], cumulativeRevenueB['revenue'], label='B')\n",
    "\n",
    "plt.title('График кумулятивной выручки по группам')\n",
    "plt.xlabel('Дата')\n",
    "plt.ylabel('Выручка')\n",
    "plt.grid()\n",
    "plt.legend()"
   ]
  },
  {
   "cell_type": "markdown",
   "id": "154be610",
   "metadata": {},
   "source": [
    "На графике видно, что c 01.08 по 18.08 выручка равномерно растет в обеих группах и показатели достаточно близки друг к другу. После 18.08 происходит скачок дохода в группе В и после этого показатели в обеих группах стабилизируются, а показатели дохода в группе В стабильно лучше, чем в группе А.\\\n",
    "Резкие скачки могут сигнализировать о всплесках числа заказов, либо о появлении очень дорогих заказов в выборке. Возможные аномалии в дальнешем необходимо выявить."
   ]
  },
  {
   "cell_type": "markdown",
   "id": "592eb574",
   "metadata": {},
   "source": [
    "- Построим график кумулятивного среднего чека по группам  — разделим кумулятивную выручку на кумулятивное число заказов"
   ]
  },
  {
   "cell_type": "code",
   "execution_count": 36,
   "id": "188eb857",
   "metadata": {},
   "outputs": [
    {
     "data": {
      "text/plain": [
       "<matplotlib.legend.Legend at 0x2d67247c3a0>"
      ]
     },
     "execution_count": 36,
     "metadata": {},
     "output_type": "execute_result"
    },
    {
     "data": {
      "image/png": "[encoded data removed]",
      "text/plain": [
       "<Figure size 2000x1000 with 1 Axes>"
      ]
     },
     "metadata": {},
     "output_type": "display_data"
    }
   ],
   "source": [
    "plt.figure(figsize=(20,10))\n",
    "plt.plot(cumulativeRevenueA['date'], cumulativeRevenueA['revenue']/cumulativeRevenueA['orders'], label='A')\n",
    "plt.plot(cumulativeRevenueB['date'], cumulativeRevenueB['revenue']/cumulativeRevenueB['orders'], label='B')\n",
    "plt.title('График кумулятивного среднегего чека по группам')\n",
    "plt.xlabel('Дата')\n",
    "plt.ylabel('Средний чек')\n",
    "plt.grid()\n",
    "plt.legend()"
   ]
  },
  {
   "cell_type": "markdown",
   "id": "8dfdafce",
   "metadata": {},
   "source": [
    "Средний чек тоже становится равномерным ближе к концу теста: установился для группы A и немного снижается для группы B. В начале теста данная метрика имеет достаточно заметные колебания. \\\n",
    "Возможно, в группу B в первой половине теста попали крупные заказы (резкий всплеск на графике) в районе 18 августа. Тогда ей нужно больше данных, чтобы прийти к реальному среднему чеку и установиться на его уровне."
   ]
  },
  {
   "cell_type": "markdown",
   "id": "23878522",
   "metadata": {},
   "source": [
    "- Построим график относительного изменения кумулятивного среднего чека группы B к группе A\n"
   ]
  },
  {
   "cell_type": "code",
   "execution_count": 37,
   "id": "f29437a7",
   "metadata": {},
   "outputs": [
    {
     "data": {
      "text/plain": [
       "Text(0, 0.5, 'Отношение средних чеков группы В к группе А')"
      ]
     },
     "execution_count": 37,
     "metadata": {},
     "output_type": "execute_result"
    },
    {
     "data": {
      "image/png": "[encoded data removed]",
      "text/plain": [
       "<Figure size 2000x1000 with 1 Axes>"
      ]
     },
     "metadata": {},
     "output_type": "display_data"
    }
   ],
   "source": [
    "plt.figure(figsize=(20,10))\n",
    "# собираем данные в одном датафрейме\n",
    "mergedCumulativeRevenue = cumulativeRevenueA.merge(cumulativeRevenueB, left_on='date', right_on='date', how='left', suffixes=['A', 'B'])\n",
    "\n",
    "# cтроим отношение средних чеков\n",
    "plt.plot(mergedCumulativeRevenue['date'], (mergedCumulativeRevenue['revenueB']/mergedCumulativeRevenue['ordersB'])/(mergedCumulativeRevenue['revenueA']/mergedCumulativeRevenue['ordersA'])-1)\n",
    "\n",
    "# добавляем ось X\n",
    "plt.axhline(y=0, color='black', linestyle='--')\n",
    "plt.title('График относительного изменения кумулятивного среднего чека группы B к группе A')\n",
    "plt.grid()\n",
    "plt.xlabel('Дата')\n",
    "plt.ylabel('Отношение средних чеков группы В к группе А')"
   ]
  },
  {
   "cell_type": "markdown",
   "id": "ce5da899",
   "metadata": {},
   "source": [
    "В нескольких точках график различия между сегментами резко меняется, что сигнализирует о выбросах. В целом, в начале теста показания в группе В растут, а после 8 августа начинают понижаться. Наилучшие результаты в группе А приходятся на 13 августа. Затем после 18 августа происходит резкий скачок величины среднего чека группы В, после чего значение снижается и стабилизируется."
   ]
  },
  {
   "cell_type": "markdown",
   "id": "db70e1a1",
   "metadata": {},
   "source": [
    "- Построим график кумулятивного среднего количества заказов на посетителя по группам"
   ]
  },
  {
   "cell_type": "code",
   "execution_count": 38,
   "id": "eb75b1d9",
   "metadata": {},
   "outputs": [
    {
     "data": {
      "text/plain": [
       "<matplotlib.legend.Legend at 0x2d6717b5eb0>"
      ]
     },
     "execution_count": 38,
     "metadata": {},
     "output_type": "execute_result"
    },
    {
     "data": {
      "image/png": "[encoded data removed]",
      "text/plain": [
       "<Figure size 2000x1000 with 1 Axes>"
      ]
     },
     "metadata": {},
     "output_type": "display_data"
    }
   ],
   "source": [
    "plt.figure(figsize=(20,10))\n",
    "# считаем кумулятивную конверсию\n",
    "cumulativeData['conversion'] = cumulativeData['orders']/cumulativeData['visitors']\n",
    "\n",
    "# отделяем данные по группе A\n",
    "cumulativeDataA = cumulativeData[cumulativeData['group']=='A']\n",
    "\n",
    "# отделяем данные по группе B\n",
    "cumulativeDataB = cumulativeData[cumulativeData['group']=='B']\n",
    "\n",
    "# строим графики\n",
    "plt.plot(cumulativeDataA['date'], cumulativeDataA['conversion'], label='A')\n",
    "plt.plot(cumulativeDataB['date'], cumulativeDataB['conversion'], label='B')\n",
    "plt.grid()\n",
    "plt.title('График кумулятивного среднего количества заказов на посетителя по группам')\n",
    "plt.xlabel('Дата')\n",
    "plt.ylabel('Среднее количество заказов на посетителя')\n",
    "plt.legend()"
   ]
  },
  {
   "cell_type": "markdown",
   "id": "2f05cbad",
   "metadata": {},
   "source": [
    "График демонстрирует, что изначально кумулятивное среднее количество заказов на посетителя, т.е. конверсия, была лучше в группе А, но уже к 6 августа значения конверсии сравнялись, а после этого она начала последовательно расти в группе В и снижаться в группе А. В целом, значения стабилизируются и фиксируются ближе к 20 августа. Мы видим, что показатели кумулятивной конверсии стабильно лучше в группе В, нежели в группе А."
   ]
  },
  {
   "cell_type": "markdown",
   "id": "ad382f16",
   "metadata": {},
   "source": [
    "- Построим график относительного изменения кумулятивного среднего количества заказов на посетителя группы B к группе A"
   ]
  },
  {
   "cell_type": "code",
   "execution_count": 39,
   "id": "0ed137d4",
   "metadata": {},
   "outputs": [
    {
     "data": {
      "text/plain": [
       "<matplotlib.lines.Line2D at 0x2d671854520>"
      ]
     },
     "execution_count": 39,
     "metadata": {},
     "output_type": "execute_result"
    },
    {
     "data": {
      "image/png": "[encoded data removed]",
      "text/plain": [
       "<Figure size 2000x1000 with 1 Axes>"
      ]
     },
     "metadata": {},
     "output_type": "display_data"
    }
   ],
   "source": [
    "plt.figure(figsize=(20,10))\n",
    "mergedCumulativeConversions = cumulativeDataA[['date','conversion']].merge(cumulativeDataB[['date','conversion']], left_on='date', right_on='date', how='left', suffixes=['A', 'B'])\n",
    "\n",
    "plt.plot(mergedCumulativeConversions['date'], mergedCumulativeConversions['conversionB']/mergedCumulativeConversions['conversionA']-1, label=\"Относительный прирост среднего количества заказов на посетителя группы B относительно группы A\")\n",
    "plt.grid()\n",
    "plt.legend()\n",
    "plt.title('График относительного изменения кумулятивного среднего количества заказов на посетителя группы B к группе A')\n",
    "plt.xlabel('Дата')\n",
    "plt.ylabel('Отношение среднего количества заказов на посетителя группы B к группе A')\n",
    "plt.axhline(y=0, color='black', linestyle='--')\n",
    "plt.axhline(y=0.1, color='grey', linestyle='--')\n",
    "plt.axhline(y=0.2, color='green', linestyle='--')\n"
   ]
  },
  {
   "cell_type": "markdown",
   "id": "2304c9a0",
   "metadata": {},
   "source": [
    "В начале теста группа B значительно проигрывала группе A, затем вырвалась вперёд. После 6 августа данная метрика становится лучше в группе В. В целом, здесь все еще видны некоторые колебания, но среднее количество заказов в группе В стабильно лучше и стремится к фиксации."
   ]
  },
  {
   "cell_type": "markdown",
   "id": "b4806b19",
   "metadata": {},
   "source": [
    "- Построим точечный график количества заказов по пользователям\n",
    "Для этого создадим сводную таблицу, в которой посчитаем, сколько каждый пользователь совершил заказов. "
   ]
  },
  {
   "cell_type": "code",
   "execution_count": 40,
   "id": "f5ac82e2",
   "metadata": {
    "scrolled": true
   },
   "outputs": [
    {
     "data": {
      "text/html": [
       "<div>\n",
       "<style scoped>\n",
       "    .dataframe tbody tr th:only-of-type {\n",
       "        vertical-align: middle;\n",
       "    }\n",
       "\n",
       "    .dataframe tbody tr th {\n",
       "        vertical-align: top;\n",
       "    }\n",
       "\n",
       "    .dataframe thead th {\n",
       "        text-align: right;\n",
       "    }\n",
       "</style>\n",
       "<table border=\"1\" class=\"dataframe\">\n",
       "  <thead>\n",
       "    <tr style=\"text-align: right;\">\n",
       "      <th></th>\n",
       "      <th>userId</th>\n",
       "      <th>orders</th>\n",
       "    </tr>\n",
       "  </thead>\n",
       "  <tbody>\n",
       "    <tr>\n",
       "      <th>908</th>\n",
       "      <td>3967698036</td>\n",
       "      <td>3</td>\n",
       "    </tr>\n",
       "    <tr>\n",
       "      <th>55</th>\n",
       "      <td>249864742</td>\n",
       "      <td>3</td>\n",
       "    </tr>\n",
       "    <tr>\n",
       "      <th>478</th>\n",
       "      <td>2108163459</td>\n",
       "      <td>3</td>\n",
       "    </tr>\n",
       "    <tr>\n",
       "      <th>687</th>\n",
       "      <td>2988190573</td>\n",
       "      <td>3</td>\n",
       "    </tr>\n",
       "    <tr>\n",
       "      <th>890</th>\n",
       "      <td>3908431265</td>\n",
       "      <td>3</td>\n",
       "    </tr>\n",
       "    <tr>\n",
       "      <th>138</th>\n",
       "      <td>611059232</td>\n",
       "      <td>3</td>\n",
       "    </tr>\n",
       "    <tr>\n",
       "      <th>632</th>\n",
       "      <td>2742574263</td>\n",
       "      <td>3</td>\n",
       "    </tr>\n",
       "    <tr>\n",
       "      <th>157</th>\n",
       "      <td>678354126</td>\n",
       "      <td>2</td>\n",
       "    </tr>\n",
       "    <tr>\n",
       "      <th>323</th>\n",
       "      <td>1404560065</td>\n",
       "      <td>2</td>\n",
       "    </tr>\n",
       "    <tr>\n",
       "      <th>452</th>\n",
       "      <td>1985475298</td>\n",
       "      <td>2</td>\n",
       "    </tr>\n",
       "  </tbody>\n",
       "</table>\n",
       "</div>"
      ],
      "text/plain": [
       "         userId  orders\n",
       "908  3967698036       3\n",
       "55    249864742       3\n",
       "478  2108163459       3\n",
       "687  2988190573       3\n",
       "890  3908431265       3\n",
       "138   611059232       3\n",
       "632  2742574263       3\n",
       "157   678354126       2\n",
       "323  1404560065       2\n",
       "452  1985475298       2"
      ]
     },
     "execution_count": 40,
     "metadata": {},
     "output_type": "execute_result"
    }
   ],
   "source": [
    "# создаем сводную таблицу\n",
    "ordersByUsers = (\n",
    "    orders.groupby('visitor_id', as_index=False)\n",
    "    .agg({'transaction_id': 'nunique'})\n",
    ")\n",
    "# переименовываем столбцы\n",
    "ordersByUsers.columns = ['userId', 'orders']\n",
    "# Выведем таблицу на экран в порядке убывания числа заказво\n",
    "ordersByUsers.sort_values(by='orders', ascending=False).head(10)"
   ]
  },
  {
   "cell_type": "markdown",
   "id": "02d97fe2",
   "metadata": {},
   "source": [
    "Из таблицы видим, что всего 7 пользователей совершили 3 заказа, остальные 2 и меньше \\\n",
    "Построим точечный график"
   ]
  },
  {
   "cell_type": "code",
   "execution_count": 41,
   "id": "31f45deb",
   "metadata": {},
   "outputs": [
    {
     "data": {
      "image/png": "[encoded data removed]",
      "text/plain": [
       "<Figure size 2000x1000 with 1 Axes>"
      ]
     },
     "metadata": {},
     "output_type": "display_data"
    }
   ],
   "source": [
    "plt.figure(figsize=(20,10))\n",
    "x_values = pd.Series(range(0, len(ordersByUsers)))\n",
    "plt.scatter(x_values, ordersByUsers['orders']) \n",
    "plt.title('Точечный график количества заказов по пользователям')\n",
    "plt.xlabel('Количество пользователей')\n",
    "plt.ylabel('Количество заказов')\n",
    "plt.grid()"
   ]
  },
  {
   "cell_type": "markdown",
   "id": "4bfe175e",
   "metadata": {},
   "source": [
    "На графике мы видим, что больше всего пользователи совершают по одному заказу. Также видны те самые 7 пользователей с 3 заказами. Кроме того, просматривается некоторый процент пользователей, совершивших два заказа. При этом не совсем ясно, считать ли их аномальными. Для этого посчитаем перцентили"
   ]
  },
  {
   "cell_type": "markdown",
   "id": "80be7055",
   "metadata": {},
   "source": [
    "- Посчитаем 95-й и 99-й перцентили количества заказов на пользователя. Выберем границу для определения аномальных пользователей."
   ]
  },
  {
   "cell_type": "code",
   "execution_count": 42,
   "id": "64b4b45b",
   "metadata": {},
   "outputs": [
    {
     "data": {
      "text/plain": [
       "array([1., 2.])"
      ]
     },
     "execution_count": 42,
     "metadata": {},
     "output_type": "execute_result"
    }
   ],
   "source": [
    "per_cnt = np.percentile(ordersByUsers['orders'], [95,99])\n",
    "per_cnt"
   ]
  },
  {
   "cell_type": "markdown",
   "id": "8d44c702",
   "metadata": {},
   "source": [
    "Видим, что не более 5% пользователей совершали более одного заказа, и не более 1% - больше двух заказов.\\\n",
    "Разумно выбрать 1 заказ на одного пользователя за верхнюю границу числа заказов, и отсеять аномальных пользователей по ней."
   ]
  },
  {
   "cell_type": "markdown",
   "id": "d4693133",
   "metadata": {},
   "source": [
    "- Построим точечный график стоимостей заказов"
   ]
  },
  {
   "cell_type": "code",
   "execution_count": 43,
   "id": "27f98904",
   "metadata": {},
   "outputs": [
    {
     "data": {
      "text/html": [
       "<div>\n",
       "<style scoped>\n",
       "    .dataframe tbody tr th:only-of-type {\n",
       "        vertical-align: middle;\n",
       "    }\n",
       "\n",
       "    .dataframe tbody tr th {\n",
       "        vertical-align: top;\n",
       "    }\n",
       "\n",
       "    .dataframe thead th {\n",
       "        text-align: right;\n",
       "    }\n",
       "</style>\n",
       "<table border=\"1\" class=\"dataframe\">\n",
       "  <thead>\n",
       "    <tr style=\"text-align: right;\">\n",
       "      <th></th>\n",
       "      <th>transaction_id</th>\n",
       "      <th>visitor_id</th>\n",
       "      <th>date</th>\n",
       "      <th>revenue</th>\n",
       "      <th>group</th>\n",
       "    </tr>\n",
       "  </thead>\n",
       "  <tbody>\n",
       "    <tr>\n",
       "      <th>425</th>\n",
       "      <td>590470918</td>\n",
       "      <td>1920142716</td>\n",
       "      <td>2019-08-19</td>\n",
       "      <td>1294500</td>\n",
       "      <td>B</td>\n",
       "    </tr>\n",
       "    <tr>\n",
       "      <th>1196</th>\n",
       "      <td>3936777065</td>\n",
       "      <td>2108080724</td>\n",
       "      <td>2019-08-15</td>\n",
       "      <td>202740</td>\n",
       "      <td>B</td>\n",
       "    </tr>\n",
       "    <tr>\n",
       "      <th>1136</th>\n",
       "      <td>666610489</td>\n",
       "      <td>1307669133</td>\n",
       "      <td>2019-08-13</td>\n",
       "      <td>92550</td>\n",
       "      <td>A</td>\n",
       "    </tr>\n",
       "    <tr>\n",
       "      <th>744</th>\n",
       "      <td>3668308183</td>\n",
       "      <td>888512513</td>\n",
       "      <td>2019-08-27</td>\n",
       "      <td>86620</td>\n",
       "      <td>B</td>\n",
       "    </tr>\n",
       "    <tr>\n",
       "      <th>743</th>\n",
       "      <td>3603576309</td>\n",
       "      <td>4133034833</td>\n",
       "      <td>2019-08-09</td>\n",
       "      <td>67990</td>\n",
       "      <td>A</td>\n",
       "    </tr>\n",
       "    <tr>\n",
       "      <th>1103</th>\n",
       "      <td>1348774318</td>\n",
       "      <td>1164614297</td>\n",
       "      <td>2019-08-12</td>\n",
       "      <td>66350</td>\n",
       "      <td>A</td>\n",
       "    </tr>\n",
       "    <tr>\n",
       "      <th>1099</th>\n",
       "      <td>316924019</td>\n",
       "      <td>148427295</td>\n",
       "      <td>2019-08-12</td>\n",
       "      <td>65710</td>\n",
       "      <td>A</td>\n",
       "    </tr>\n",
       "    <tr>\n",
       "      <th>949</th>\n",
       "      <td>1347999392</td>\n",
       "      <td>887908475</td>\n",
       "      <td>2019-08-21</td>\n",
       "      <td>60450</td>\n",
       "      <td>A</td>\n",
       "    </tr>\n",
       "    <tr>\n",
       "      <th>940</th>\n",
       "      <td>2420050534</td>\n",
       "      <td>4003628586</td>\n",
       "      <td>2019-08-08</td>\n",
       "      <td>58550</td>\n",
       "      <td>B</td>\n",
       "    </tr>\n",
       "    <tr>\n",
       "      <th>131</th>\n",
       "      <td>3163614039</td>\n",
       "      <td>2254586615</td>\n",
       "      <td>2019-08-22</td>\n",
       "      <td>53904</td>\n",
       "      <td>A</td>\n",
       "    </tr>\n",
       "    <tr>\n",
       "      <th>287</th>\n",
       "      <td>587872075</td>\n",
       "      <td>2254456485</td>\n",
       "      <td>2019-08-24</td>\n",
       "      <td>53904</td>\n",
       "      <td>A</td>\n",
       "    </tr>\n",
       "    <tr>\n",
       "      <th>613</th>\n",
       "      <td>4071177889</td>\n",
       "      <td>3931967268</td>\n",
       "      <td>2019-08-07</td>\n",
       "      <td>53904</td>\n",
       "      <td>B</td>\n",
       "    </tr>\n",
       "    <tr>\n",
       "      <th>1006</th>\n",
       "      <td>1861540412</td>\n",
       "      <td>2261934787</td>\n",
       "      <td>2019-08-10</td>\n",
       "      <td>52900</td>\n",
       "      <td>A</td>\n",
       "    </tr>\n",
       "    <tr>\n",
       "      <th>1142</th>\n",
       "      <td>3815014015</td>\n",
       "      <td>2606908679</td>\n",
       "      <td>2019-08-13</td>\n",
       "      <td>52900</td>\n",
       "      <td>B</td>\n",
       "    </tr>\n",
       "    <tr>\n",
       "      <th>1137</th>\n",
       "      <td>2183069967</td>\n",
       "      <td>759473111</td>\n",
       "      <td>2019-08-13</td>\n",
       "      <td>52480</td>\n",
       "      <td>A</td>\n",
       "    </tr>\n",
       "  </tbody>\n",
       "</table>\n",
       "</div>"
      ],
      "text/plain": [
       "      transaction_id  visitor_id       date  revenue group\n",
       "425        590470918  1920142716 2019-08-19  1294500     B\n",
       "1196      3936777065  2108080724 2019-08-15   202740     B\n",
       "1136       666610489  1307669133 2019-08-13    92550     A\n",
       "744       3668308183   888512513 2019-08-27    86620     B\n",
       "743       3603576309  4133034833 2019-08-09    67990     A\n",
       "1103      1348774318  1164614297 2019-08-12    66350     A\n",
       "1099       316924019   148427295 2019-08-12    65710     A\n",
       "949       1347999392   887908475 2019-08-21    60450     A\n",
       "940       2420050534  4003628586 2019-08-08    58550     B\n",
       "131       3163614039  2254586615 2019-08-22    53904     A\n",
       "287        587872075  2254456485 2019-08-24    53904     A\n",
       "613       4071177889  3931967268 2019-08-07    53904     B\n",
       "1006      1861540412  2261934787 2019-08-10    52900     A\n",
       "1142      3815014015  2606908679 2019-08-13    52900     B\n",
       "1137      2183069967   759473111 2019-08-13    52480     A"
      ]
     },
     "execution_count": 43,
     "metadata": {},
     "output_type": "execute_result"
    }
   ],
   "source": [
    "# посмотрим на заказы с наибольшей стоимостью из таблицы orders\n",
    "orders.sort_values(by='revenue', ascending=False).head(15)"
   ]
  },
  {
   "cell_type": "markdown",
   "id": "fcef3f84",
   "metadata": {},
   "source": [
    "И сразу по таблице виден аномальный заказ, стоимость которого превышает 1,2 млн, второй заказ также представляется аномальным - около 200 тыс. Все остальные заказы не превышают 100 тыс."
   ]
  },
  {
   "cell_type": "code",
   "execution_count": 44,
   "id": "d71ba470",
   "metadata": {},
   "outputs": [
    {
     "data": {
      "image/png": "[encoded data removed]",
      "text/plain": [
       "<Figure size 2000x1000 with 1 Axes>"
      ]
     },
     "metadata": {},
     "output_type": "display_data"
    }
   ],
   "source": [
    "plt.figure(figsize=(20,10))\n",
    "x_values = pd.Series(range(0, len(orders['revenue'])))\n",
    "plt.scatter(x_values, orders['revenue']) \n",
    "plt.title('Точечный график стоимостей заказов')\n",
    "plt.xlabel('Количество пользователей')\n",
    "plt.ylabel('Стоимость заказов')\n",
    "plt.grid()"
   ]
  },
  {
   "cell_type": "markdown",
   "id": "e2209633",
   "metadata": {},
   "source": [
    "Видим на графике те самые единичные дорогие заказы в районе 1,2 млн и 200 тыс. \\\n",
    "Рассмотрим более наглядно основную часть заказов, ограничив значения по оси Y до 100000"
   ]
  },
  {
   "cell_type": "code",
   "execution_count": 45,
   "id": "ed8e7dd3",
   "metadata": {},
   "outputs": [
    {
     "data": {
      "text/plain": [
       "(0.0, 1050.0, 0.0, 100000.0)"
      ]
     },
     "execution_count": 45,
     "metadata": {},
     "output_type": "execute_result"
    },
    {
     "data": {
      "image/png": "[encoded data removed]",
      "text/plain": [
       "<Figure size 2000x1000 with 1 Axes>"
      ]
     },
     "metadata": {},
     "output_type": "display_data"
    }
   ],
   "source": [
    "plt.figure(figsize=(20,10))\n",
    "x_values = pd.Series(range(0, len(orders['revenue'])))\n",
    "plt.scatter(x_values, orders['revenue']) \n",
    "plt.title('Точечный график стоимостей заказов')\n",
    "plt.xlabel('Количество пользователей')\n",
    "plt.ylabel('Стоимость заказов')\n",
    "plt.grid()\n",
    "# задаем масштаб осей\n",
    "plt.axis([0, 1050, 0, 100000]) "
   ]
  },
  {
   "cell_type": "markdown",
   "id": "e6ed711c",
   "metadata": {},
   "source": [
    "Основная часть заказов лежит в области до 20000. Также наблюдаем другие точечные значения. Для определения границ аномалий рассчитаем перцентили"
   ]
  },
  {
   "cell_type": "markdown",
   "id": "d778f87f",
   "metadata": {},
   "source": [
    "- Посчитаем 95-й и 99-й перцентили стоимости заказов. Выберем границу для определения аномальных заказов"
   ]
  },
  {
   "cell_type": "code",
   "execution_count": 46,
   "id": "e1e0c762",
   "metadata": {},
   "outputs": [
    {
     "data": {
      "text/plain": [
       "array([26785., 53904.])"
      ]
     },
     "execution_count": 46,
     "metadata": {},
     "output_type": "execute_result"
    }
   ],
   "source": [
    "per_order = np.percentile(orders['revenue'], [95, 99])\n",
    "per_order"
   ]
  },
  {
   "cell_type": "markdown",
   "id": "9427ac42",
   "metadata": {},
   "source": [
    "Не более чем у 5% заказов чек дороже 26785. И не больше, чем у 1% заказов - дороже 53904. \\\n",
    "Считаем целесообразно опеделить границу для определения аномальных заказов в 26785. "
   ]
  },
  {
   "cell_type": "markdown",
   "id": "7635b5e1",
   "metadata": {},
   "source": [
    "- Посчитаем статистическую значимость различий в среднем количестве заказов на посетителя между группами по «сырым» данным\\\n",
    "Для решения данной задачи сформулируем гипотезы. \\\n",
    "Н0: различий в среднем количестве заказов между группами нет. \\\n",
    "Н1: различия в среднем между группами есть.\\\n",
    "\\\n",
    "Значение alpha зададим в размере 0.05.\\\n",
    "Для проверки гипотезы будеет использовать критерий Манна-Уитни. Для этого создадим объединенную таблицу, в которую соберем все данные о визитах, числе заказов и их стоимости по каждой из групп в каждый день теста."
   ]
  },
  {
   "cell_type": "code",
   "execution_count": 47,
   "id": "b3961445",
   "metadata": {},
   "outputs": [
    {
     "data": {
      "text/html": [
       "<div>\n",
       "<style scoped>\n",
       "    .dataframe tbody tr th:only-of-type {\n",
       "        vertical-align: middle;\n",
       "    }\n",
       "\n",
       "    .dataframe tbody tr th {\n",
       "        vertical-align: top;\n",
       "    }\n",
       "\n",
       "    .dataframe thead th {\n",
       "        text-align: right;\n",
       "    }\n",
       "</style>\n",
       "<table border=\"1\" class=\"dataframe\">\n",
       "  <thead>\n",
       "    <tr style=\"text-align: right;\">\n",
       "      <th></th>\n",
       "      <th>date</th>\n",
       "      <th>ordersPerDateA</th>\n",
       "      <th>revenuePerDateA</th>\n",
       "      <th>ordersPerDateB</th>\n",
       "      <th>revenuePerDateB</th>\n",
       "      <th>ordersCummulativeA</th>\n",
       "      <th>revenueCummulativeA</th>\n",
       "      <th>ordersCummulativeB</th>\n",
       "      <th>revenueCummulativeB</th>\n",
       "      <th>visitorsPerDateA</th>\n",
       "      <th>visitorsPerDateB</th>\n",
       "      <th>visitorsCummulativeA</th>\n",
       "      <th>visitorsCummulativeB</th>\n",
       "    </tr>\n",
       "  </thead>\n",
       "  <tbody>\n",
       "    <tr>\n",
       "      <th>0</th>\n",
       "      <td>2019-08-01</td>\n",
       "      <td>23</td>\n",
       "      <td>142779</td>\n",
       "      <td>17</td>\n",
       "      <td>59758</td>\n",
       "      <td>23</td>\n",
       "      <td>142779</td>\n",
       "      <td>17</td>\n",
       "      <td>59758</td>\n",
       "      <td>719</td>\n",
       "      <td>713</td>\n",
       "      <td>719</td>\n",
       "      <td>713</td>\n",
       "    </tr>\n",
       "    <tr>\n",
       "      <th>1</th>\n",
       "      <td>2019-08-02</td>\n",
       "      <td>19</td>\n",
       "      <td>91602</td>\n",
       "      <td>23</td>\n",
       "      <td>162043</td>\n",
       "      <td>42</td>\n",
       "      <td>234381</td>\n",
       "      <td>40</td>\n",
       "      <td>221801</td>\n",
       "      <td>619</td>\n",
       "      <td>581</td>\n",
       "      <td>1338</td>\n",
       "      <td>1294</td>\n",
       "    </tr>\n",
       "    <tr>\n",
       "      <th>2</th>\n",
       "      <td>2019-08-03</td>\n",
       "      <td>24</td>\n",
       "      <td>112473</td>\n",
       "      <td>14</td>\n",
       "      <td>67049</td>\n",
       "      <td>66</td>\n",
       "      <td>346854</td>\n",
       "      <td>54</td>\n",
       "      <td>288850</td>\n",
       "      <td>507</td>\n",
       "      <td>509</td>\n",
       "      <td>1845</td>\n",
       "      <td>1803</td>\n",
       "    </tr>\n",
       "    <tr>\n",
       "      <th>3</th>\n",
       "      <td>2019-08-04</td>\n",
       "      <td>11</td>\n",
       "      <td>41176</td>\n",
       "      <td>14</td>\n",
       "      <td>96890</td>\n",
       "      <td>77</td>\n",
       "      <td>388030</td>\n",
       "      <td>68</td>\n",
       "      <td>385740</td>\n",
       "      <td>717</td>\n",
       "      <td>770</td>\n",
       "      <td>2562</td>\n",
       "      <td>2573</td>\n",
       "    </tr>\n",
       "    <tr>\n",
       "      <th>4</th>\n",
       "      <td>2019-08-05</td>\n",
       "      <td>22</td>\n",
       "      <td>86383</td>\n",
       "      <td>21</td>\n",
       "      <td>89908</td>\n",
       "      <td>99</td>\n",
       "      <td>474413</td>\n",
       "      <td>89</td>\n",
       "      <td>475648</td>\n",
       "      <td>756</td>\n",
       "      <td>707</td>\n",
       "      <td>3318</td>\n",
       "      <td>3280</td>\n",
       "    </tr>\n",
       "  </tbody>\n",
       "</table>\n",
       "</div>"
      ],
      "text/plain": [
       "        date  ordersPerDateA  revenuePerDateA  ordersPerDateB  \\\n",
       "0 2019-08-01              23           142779              17   \n",
       "1 2019-08-02              19            91602              23   \n",
       "2 2019-08-03              24           112473              14   \n",
       "3 2019-08-04              11            41176              14   \n",
       "4 2019-08-05              22            86383              21   \n",
       "\n",
       "   revenuePerDateB  ordersCummulativeA  revenueCummulativeA  \\\n",
       "0            59758                  23               142779   \n",
       "1           162043                  42               234381   \n",
       "2            67049                  66               346854   \n",
       "3            96890                  77               388030   \n",
       "4            89908                  99               474413   \n",
       "\n",
       "   ordersCummulativeB  revenueCummulativeB  visitorsPerDateA  \\\n",
       "0                  17                59758               719   \n",
       "1                  40               221801               619   \n",
       "2                  54               288850               507   \n",
       "3                  68               385740               717   \n",
       "4                  89               475648               756   \n",
       "\n",
       "   visitorsPerDateB  visitorsCummulativeA  visitorsCummulativeB  \n",
       "0               713                   719                   713  \n",
       "1               581                  1338                  1294  \n",
       "2               509                  1845                  1803  \n",
       "3               770                  2562                  2573  \n",
       "4               707                  3318                  3280  "
      ]
     },
     "execution_count": 47,
     "metadata": {},
     "output_type": "execute_result"
    }
   ],
   "source": [
    "visitorsADaily = visitors[visitors['group'] == 'A'][['date', 'visitors']]\n",
    "visitorsADaily.columns = ['date', 'visitorsPerDateA']\n",
    "\n",
    "visitorsACummulative = visitorsADaily.apply(\n",
    "    lambda x: visitorsADaily[visitorsADaily['date'] <= x['date']].agg(\n",
    "        {'date': 'max', 'visitorsPerDateA': 'sum'}\n",
    "    ),\n",
    "    axis=1,\n",
    ")\n",
    "visitorsACummulative.columns = ['date', 'visitorsCummulativeA']\n",
    "\n",
    "visitorsBDaily = visitors[visitors['group'] == 'B'][['date', 'visitors']]\n",
    "visitorsBDaily.columns = ['date', 'visitorsPerDateB']\n",
    "\n",
    "visitorsBCummulative = visitorsBDaily.apply(\n",
    "    lambda x: visitorsBDaily[visitorsBDaily['date'] <= x['date']].agg(\n",
    "        {'date': 'max', 'visitorsPerDateB': 'sum'}\n",
    "    ),\n",
    "    axis=1,\n",
    ")\n",
    "visitorsBCummulative.columns = ['date', 'visitorsCummulativeB']\n",
    "\n",
    "ordersADaily = (\n",
    "    orders[orders['group'] == 'A'][['date', 'transaction_id', 'visitor_id', 'revenue']]\n",
    "    .groupby('date', as_index=False)\n",
    "    .agg({'transaction_id': pd.Series.nunique, 'revenue': 'sum'})\n",
    ")\n",
    "ordersADaily.columns = ['date', 'ordersPerDateA', 'revenuePerDateA']\n",
    "\n",
    "ordersACummulative = ordersADaily.apply(\n",
    "    lambda x: ordersADaily[ordersADaily['date'] <= x['date']].agg(\n",
    "        {'date': 'max', 'ordersPerDateA': 'sum', 'revenuePerDateA': 'sum'}\n",
    "    ),\n",
    "    axis=1,\n",
    ").sort_values(by=['date'])\n",
    "ordersACummulative.columns = [\n",
    "    'date',\n",
    "    'ordersCummulativeA',\n",
    "    'revenueCummulativeA',\n",
    "]\n",
    "\n",
    "ordersBDaily = (\n",
    "    orders[orders['group'] == 'B'][['date', 'transaction_id', 'visitor_id', 'revenue']]\n",
    "    .groupby('date', as_index=False)\n",
    "    .agg({'transaction_id': pd.Series.nunique, 'revenue': 'sum'})\n",
    ")\n",
    "ordersBDaily.columns = ['date', 'ordersPerDateB', 'revenuePerDateB']\n",
    "\n",
    "ordersBCummulative = ordersBDaily.apply(\n",
    "    lambda x: ordersBDaily[ordersBDaily['date'] <= x['date']].agg(\n",
    "        {'date': 'max', 'ordersPerDateB': 'sum', 'revenuePerDateB': 'sum'}\n",
    "    ),\n",
    "    axis=1,\n",
    ").sort_values(by=['date'])\n",
    "ordersBCummulative.columns = [\n",
    "    'date',\n",
    "    'ordersCummulativeB',\n",
    "    'revenueCummulativeB',\n",
    "]\n",
    "\n",
    "data = (\n",
    "    ordersADaily.merge(\n",
    "        ordersBDaily, left_on='date', right_on='date', how='left'\n",
    "    )\n",
    "    .merge(ordersACummulative, left_on='date', right_on='date', how='left')\n",
    "    .merge(ordersBCummulative, left_on='date', right_on='date', how='left')\n",
    "    .merge(visitorsADaily, left_on='date', right_on='date', how='left')\n",
    "    .merge(visitorsBDaily, left_on='date', right_on='date', how='left')\n",
    "    .merge(visitorsACummulative, left_on='date', right_on='date', how='left')\n",
    "    .merge(visitorsBCummulative, left_on='date', right_on='date', how='left')\n",
    ")\n",
    "\n",
    "data.head()"
   ]
  },
  {
   "cell_type": "markdown",
   "id": "91664136",
   "metadata": {},
   "source": [
    "Посчитаем статистическую значимость различия в среднем количестве заказов между группами.\n",
    "Создадим переменные ordersByUsersA и ordersByUsersB со столбцами ['userId', 'orders']. В них для пользователей, которые заказывали хотя бы 1 раз, укажем число совершённых заказов."
   ]
  },
  {
   "cell_type": "code",
   "execution_count": 48,
   "id": "0ba0413f",
   "metadata": {},
   "outputs": [],
   "source": [
    "ordersByUsersA = (\n",
    "    orders[orders['group'] == 'A']\n",
    "    .groupby('visitor_id', as_index=False)\n",
    "    .agg({'transaction_id': pd.Series.nunique})\n",
    ")\n",
    "ordersByUsersA.columns = ['userId', 'orders']\n",
    "\n",
    "ordersByUsersB = (\n",
    "    orders[orders['group'] == 'B']\n",
    "    .groupby('visitor_id', as_index=False)\n",
    "    .agg({'transaction_id': pd.Series.nunique})\n",
    ")\n",
    "ordersByUsersB.columns = ['userId', 'orders']\n"
   ]
  },
  {
   "cell_type": "markdown",
   "id": "f5e663fc",
   "metadata": {},
   "source": [
    "Объявим переменные sampleA и sampleB, в которых пользователям из разных групп будет соответствовать количество заказов. Тем, кто ничего не заказал, будут соответствовать нули. Это нужно, чтобы подготовить выборки к проверке критерием Манна-Уитни.\\\n",
    "Переменная sampleA должна состоять из двух частей:\n",
    "1. Список с количеством заказов для каждого из пользователей: ordersByUsersA['orders'].\n",
    "2. Нули для пользователей, которые ничего не заказывали. Их количество равно разнице между суммой посетителей и количеством записей о заказах: data['visitorsPerDateA'].sum() - len(ordersByUsersA['orders']).\\\n",
    "То же делаем для sampleB\\\n",
    "Таким образом, в sampleA сохранили выборку, где каждый элемент — число заказов определённого пользователя, в том числе ноль. Значит, число элементов sampleA — это количество пользователей, сумма всех элементов — количество заказов. Чтобы получить среднее число заказов на пользователя, поделим сумму заказов на число пользователей — найдём среднее в выборке sampleA методом mean(). Аналогично найдём среднее группы B: SampleB.mean().\n",
    "Выведем относительный прирост среднего числа заказов группы B: среднее число заказов группы B / среднее число заказов группы A - 1.  Округлим до трёх знаков после запятой."
   ]
  },
  {
   "cell_type": "code",
   "execution_count": 49,
   "id": "a573a0e1",
   "metadata": {},
   "outputs": [
    {
     "name": "stdout",
     "output_type": "stream",
     "text": [
      "alpha = 0.05\n",
      "p-value = 0.011\n",
      "Относительный прирост среднего числа заказов группы B = 0.160\n"
     ]
    }
   ],
   "source": [
    "sampleA = pd.concat(\n",
    "    [\n",
    "        ordersByUsersA['orders'],\n",
    "        pd.Series(\n",
    "            0,\n",
    "            index=np.arange(\n",
    "                data['visitorsPerDateA'].sum() - len(ordersByUsersA['orders'])\n",
    "            ),\n",
    "            name='orders',\n",
    "        ),\n",
    "    ],\n",
    "    axis=0,\n",
    ")\n",
    "\n",
    "sampleB = pd.concat(\n",
    "    [\n",
    "        ordersByUsersB['orders'],\n",
    "        pd.Series(\n",
    "            0,\n",
    "            index=np.arange(\n",
    "                data['visitorsPerDateB'].sum() - len(ordersByUsersB['orders'])\n",
    "            ),\n",
    "            name='orders',\n",
    "        ),\n",
    "    ],\n",
    "    axis=0,\n",
    ")\n",
    "print(\"alpha =\",0.05)\n",
    "print(\"p-value = {0:.3f}\".format(st.mannwhitneyu(sampleA, sampleB)[1]))\n",
    "\n",
    "print(\"Относительный прирост среднего числа заказов группы B = {0:.3f}\".format(sampleB.mean() / sampleA.mean() - 1))"
   ]
  },
  {
   "cell_type": "markdown",
   "id": "ec707b24",
   "metadata": {},
   "source": [
    "Первое число — p-value = 0.011 меньше 0.05. Значит, нулевую гипотезу о том, что статистически значимых различий в среднем числе заказов между группами нет, отвергаем. По \"сырым\" данным различия в конверсии между двумя группами есть. Относительный выигрыш группы B равен 16%."
   ]
  },
  {
   "cell_type": "markdown",
   "id": "72eb5220",
   "metadata": {},
   "source": [
    "- Посчитаем статистическую значимость различий в среднем чеке заказа между группами по «сырым» данным"
   ]
  },
  {
   "cell_type": "markdown",
   "id": "e085dc23",
   "metadata": {},
   "source": [
    "Теперь проверим статистическую значимость различий в среднем чеке между сегментами. \\\n",
    "Сформулируем гипотезы:\\\n",
    "Н0:различий в среднем чеке между группами нет. \\\n",
    "Н1: различия в среднем чеке между группами есть. \\\n",
    "Для проверки гипотезы будеет использовать критерий Манна-Уитни\\\n",
    "Чтобы рассчитать статистическую значимость различий в среднем чеке, передадим критерию mannwhitneyu() данные о выручке с заказов. \n",
    "А ещё найдём относительные различия в среднем чеке между группами:"
   ]
  },
  {
   "cell_type": "code",
   "execution_count": 50,
   "id": "94b4804a",
   "metadata": {},
   "outputs": [
    {
     "name": "stdout",
     "output_type": "stream",
     "text": [
      "alpha = 0.05\n",
      "р-value = 0.829\n",
      "Относительные различия в среднем чеке между группами = 0.287\n"
     ]
    }
   ],
   "source": [
    "print('alpha =',0.05)\n",
    "print('р-value = {0:.3f}'.format(st.mannwhitneyu(orders[orders['group']=='A']['revenue'], orders[orders['group']=='B']['revenue'])[1]))\n",
    "print('Относительные различия в среднем чеке между группами = {0:.3f}'.format(orders[orders['group']=='B']['revenue'].mean()/orders[orders['group']=='A']['revenue'].mean()-1))"
   ]
  },
  {
   "cell_type": "markdown",
   "id": "8c5b2edc",
   "metadata": {},
   "source": [
    "P-value значительно больше 0.05. Значит, причин отвергать нулевую гипотезу и считать, что в среднем чеке есть различия, нет. средний чек группы B равен среднему чеку группы A (или не отличается). При этом относительное различие в среднем чеке по \"сырым\" данным все-таки есть, но оно скорее всего получено из-за выбросов."
   ]
  },
  {
   "cell_type": "markdown",
   "id": "de944821",
   "metadata": {},
   "source": [
    "- Посчитаем статистическую значимость различий в среднем количестве заказов на посетителя между группами по «очищенным» данным\\\n",
    "За аномальных пользователей примем тех, кто совершил более 1 заказа или совершил заказ дороже 26 785 рублей.\\\n",
    "Так мы уберём 5% пользователей с наибольшим числом заказов и от 1% до 5% пользователей с дорогими заказами. Сделаем срезы пользователей с числом заказов больше 1 — usersWithManyOrders и пользователей, совершивших заказы дороже 26 785 — usersWithExpensiveOrders. Объединим их в таблице abnormalUsers"
   ]
  },
  {
   "cell_type": "code",
   "execution_count": 51,
   "id": "cdb77b40",
   "metadata": {
    "scrolled": true
   },
   "outputs": [
    {
     "name": "stdout",
     "output_type": "stream",
     "text": [
      "568     113298937\n",
      "1099    148427295\n",
      "928     204675465\n",
      "33      249864742\n",
      "684     358944393\n",
      "dtype: int64\n",
      "86\n"
     ]
    }
   ],
   "source": [
    "# Узнаем, сколько всего аномальных пользователей атрибутом shape\n",
    "usersWithManyOrders = pd.concat(\n",
    "    [\n",
    "        ordersByUsersA[ordersByUsersA['orders'] > per_cnt[0]]['userId'],\n",
    "        ordersByUsersB[ordersByUsersB['orders'] > per_cnt[0]]['userId'],\n",
    "    ],\n",
    "    axis=0,\n",
    ")\n",
    "usersWithExpensiveOrders = orders[orders['revenue'] > per_order[0]]['visitor_id']\n",
    "abnormalUsers = (\n",
    "    pd.concat([usersWithManyOrders, usersWithExpensiveOrders], axis=0)\n",
    "    .drop_duplicates()\n",
    "    .sort_values()\n",
    ")\n",
    "print(abnormalUsers.head())\n",
    "print(abnormalUsers.shape[0])"
   ]
  },
  {
   "cell_type": "markdown",
   "id": "8d035104",
   "metadata": {},
   "source": [
    "Всего 86 аномальных пользователей. \n",
    "Узнаем, как их действия повлияли на результаты теста. Посчитаем статистическую значимость различий в среднем количестве заказов между группами теста по \"очищенным\" данным. Сначала подготовим выборки количества заказов по пользователям по группам теста:"
   ]
  },
  {
   "cell_type": "code",
   "execution_count": 52,
   "id": "c22a31ac",
   "metadata": {},
   "outputs": [],
   "source": [
    "sampleAFiltered = pd.concat(\n",
    "    [\n",
    "        ordersByUsersA[\n",
    "            np.logical_not(ordersByUsersA['userId'].isin(abnormalUsers))\n",
    "        ]['orders'],\n",
    "        pd.Series(\n",
    "            0,\n",
    "            index=np.arange(\n",
    "                data['visitorsPerDateA'].sum() - len(ordersByUsersA['orders'])\n",
    "            ),\n",
    "            name='orders',\n",
    "        ),\n",
    "    ],\n",
    "    axis=0,\n",
    ")\n",
    "\n",
    "sampleBFiltered = pd.concat(\n",
    "    [\n",
    "        ordersByUsersB[\n",
    "            np.logical_not(ordersByUsersB['userId'].isin(abnormalUsers))\n",
    "        ]['orders'],\n",
    "        pd.Series(\n",
    "            0,\n",
    "            index=np.arange(\n",
    "                data['visitorsPerDateB'].sum() - len(ordersByUsersB['orders'])\n",
    "            ),\n",
    "            name='orders',\n",
    "        ),\n",
    "    ],\n",
    "    axis=0,\n",
    ")"
   ]
  },
  {
   "cell_type": "markdown",
   "id": "bd641ef1",
   "metadata": {},
   "source": [
    "Применим статистический критерий Манна-Уитни к полученным выборкам:"
   ]
  },
  {
   "cell_type": "code",
   "execution_count": 53,
   "id": "dfc9d01f",
   "metadata": {},
   "outputs": [
    {
     "name": "stdout",
     "output_type": "stream",
     "text": [
      "alpha = 0.05\n",
      "р-value = 0.016\n",
      "Относительный прирост среднего числа заказов группы B = 0.174\n"
     ]
    }
   ],
   "source": [
    "print('alpha =',0.05)\n",
    "print('р-value = {0:.3f}'.format(st.mannwhitneyu(sampleAFiltered, sampleBFiltered)[1]))\n",
    "print('Относительный прирост среднего числа заказов группы B = {0:.3f}'.format(sampleBFiltered.mean()/sampleAFiltered.mean()-1)) "
   ]
  },
  {
   "cell_type": "markdown",
   "id": "8027c93b",
   "metadata": {},
   "source": [
    "Результаты по среднему количеству заказов изменились незначительно."
   ]
  },
  {
   "cell_type": "markdown",
   "id": "82eb0937",
   "metadata": {},
   "source": [
    "- Посчитаем статистическую значимость различий в среднем чеке заказа между группами по «очищенным» данным"
   ]
  },
  {
   "cell_type": "code",
   "execution_count": 54,
   "id": "4d3135d3",
   "metadata": {},
   "outputs": [
    {
     "name": "stdout",
     "output_type": "stream",
     "text": [
      "alpha = 0.05\n",
      "p-value = 0.727\n",
      "Относительные различия в среднем чеке между группами = -0.034\n"
     ]
    }
   ],
   "source": [
    "print('alpha =',0.05)\n",
    "print(\n",
    "    'p-value = {0:.3f}'.format(\n",
    "        st.mannwhitneyu(\n",
    "            orders[\n",
    "                np.logical_and(\n",
    "                    orders['group'] == 'A',\n",
    "                    np.logical_not(orders['visitor_id'].isin(abnormalUsers)),\n",
    "                )\n",
    "            ]['revenue'],\n",
    "            orders[\n",
    "                np.logical_and(\n",
    "                    orders['group'] == 'B',\n",
    "                    np.logical_not(orders['visitor_id'].isin(abnormalUsers)),\n",
    "                )\n",
    "            ]['revenue'],\n",
    "        )[1]\n",
    "    )\n",
    ")\n",
    "\n",
    "print(\n",
    "    \"Относительные различия в среднем чеке между группами = {0:.3f}\".format(\n",
    "        orders[\n",
    "            np.logical_and(\n",
    "                orders['group'] == 'B',\n",
    "                np.logical_not(orders['visitor_id'].isin(abnormalUsers)),\n",
    "            )\n",
    "        ]['revenue'].mean()\n",
    "        / orders[\n",
    "            np.logical_and(\n",
    "                orders['group'] == 'A',\n",
    "                np.logical_not(orders['visitor_id'].isin(abnormalUsers)),\n",
    "            )\n",
    "        ]['revenue'].mean()\n",
    "        - 1\n",
    "    )\n",
    ")"
   ]
  },
  {
   "cell_type": "markdown",
   "id": "41c7f26c",
   "metadata": {},
   "source": [
    "P-value уменьшился почти на 0,1, хотя этот показатель все еще значительно больше уровня критической значимости в 0,05. А вот разница между сегментами диаметрально поменялась. Если в выборке с аномальными данными средний чек группы B выше среднего чека группы A на 28,7%, то выборка с очищенными данными показывает рост среднего чека в группе А до 3,4%. Этот результат как раз и стал возможным, благодаря тому, что мы удалили аномально дорогие заказы"
   ]
  },
  {
   "cell_type": "markdown",
   "id": "bcd6ee1f",
   "metadata": {},
   "source": [
    "- Решение по результатам теста "
   ]
  },
  {
   "cell_type": "markdown",
   "id": "1aa34949",
   "metadata": {},
   "source": [
    "Сделаем промежуточные выводы, которые позволят принять решение по проведению тестирования.\n",
    "1. И по \"сырым\" и по \"очищенным\" данным различия в конверсии между двумя группами есть. Относительный выигрыш группы \"B\" над \"A\" равен 17,4% по \"очищенным\" и 16% по \"сырым\" данным.; \n",
    "2. Нет статистически значимого различия по среднему чеку между группами ни по «сырым», ни по данным после фильтрации аномалий. Средний чек группы B по \"очищенным\" данным оказался на 3,4% ниже среднего чека группы A, а вот по \"сырым\" данным средний чек группы В был больше на 28,7%.\\\n",
    "Таким образом, тест можно прекратить и признать его успешным по конверсии: группа В показывает значительно лучшие результаты по сравнению с группой А. В то же время преимущества в плане среднего чека не наблюдаются: результаты двух групп примерно одинаковы.\\\n",
    "\\\n",
    "Предполагаем, что при продолжении теста разница между группами в конверсии или среднем чеке вряд ли значимо изменится, поскольку кумулятивные графики показывают, что метрики стабилизировались."
   ]
  },
  {
   "cell_type": "markdown",
   "id": "641e319f",
   "metadata": {},
   "source": [
    "**Выводы**\\\n",
    "Таким образом, была выполнена предварительная обработка данных (таблиц с гипотезами, посещениями и заказами).\\\n",
    "\\\n",
    "По результатам анализа гипотез и их показателей была произведена приоритизация гипотез по двум фреймворкам ICE и RICE. В целом, и первый и второй фреймворк покаали наиболее приоритетными для проверки следующие гипотезы:\n",
    "1. Добавить форму подписки на все основные страницы, чтобы собрать базу клиентов для email-рассылок;\n",
    "2. Добавить два новых канала привлечения трафика, что позволит привлекать на 30% больше пользователей;\n",
    "3. Показать на главной странице баннеры с актуальными акциями и распродажами, чтобы увеличить конверсию.\\\n",
    "\\\n",
    "Анализ результатов А/В-теста показал, что тест можно прекратить и признать его успешным: показания конверсии в группе В значительно лучше, чем в группе А. При этом показатели среднего чека заказов в обеих группах не позволяют утверждать о преимуществе одной из групп.  "
   ]
  },
  {
   "cell_type": "code",
   "execution_count": null,
   "id": "a1b7c369",
   "metadata": {},
   "outputs": [],
   "source": []
  }
 ],
 "metadata": {
  "ExecuteTimeLog": [
   {
    "duration": 1355,
    "start_time": "2023-04-05T17:29:49.388Z"
   },
   {
    "duration": 81,
    "start_time": "2023-04-05T17:29:50.745Z"
   },
   {
    "duration": 12,
    "start_time": "2023-04-05T17:29:50.828Z"
   },
   {
    "duration": 17,
    "start_time": "2023-04-05T17:29:50.842Z"
   },
   {
    "duration": 17,
    "start_time": "2023-04-05T17:29:50.861Z"
   },
   {
    "duration": 15,
    "start_time": "2023-04-05T17:29:50.879Z"
   },
   {
    "duration": 8,
    "start_time": "2023-04-05T17:29:50.896Z"
   },
   {
    "duration": 27,
    "start_time": "2023-04-05T17:29:50.906Z"
   },
   {
    "duration": 102,
    "start_time": "2023-04-05T17:29:50.934Z"
   },
   {
    "duration": 8,
    "start_time": "2023-04-05T17:29:51.038Z"
   },
   {
    "duration": 17,
    "start_time": "2023-04-05T17:29:51.047Z"
   },
   {
    "duration": 47,
    "start_time": "2023-04-05T17:29:51.066Z"
   },
   {
    "duration": 17,
    "start_time": "2023-04-05T17:29:51.116Z"
   },
   {
    "duration": 16,
    "start_time": "2023-04-05T17:29:51.136Z"
   },
   {
    "duration": 15,
    "start_time": "2023-04-05T17:29:51.154Z"
   },
   {
    "duration": 37,
    "start_time": "2023-04-05T17:29:51.170Z"
   },
   {
    "duration": 4,
    "start_time": "2023-04-05T17:29:51.209Z"
   },
   {
    "duration": 18,
    "start_time": "2023-04-05T17:29:51.214Z"
   },
   {
    "duration": 11,
    "start_time": "2023-04-05T17:29:51.233Z"
   },
   {
    "duration": 6,
    "start_time": "2023-04-05T17:29:51.245Z"
   },
   {
    "duration": 43,
    "start_time": "2023-04-05T17:29:51.252Z"
   },
   {
    "duration": 81,
    "start_time": "2023-04-05T17:29:51.297Z"
   },
   {
    "duration": 9,
    "start_time": "2023-04-05T17:29:51.379Z"
   },
   {
    "duration": 35,
    "start_time": "2023-04-05T17:29:51.389Z"
   },
   {
    "duration": 18,
    "start_time": "2023-04-05T17:29:51.425Z"
   },
   {
    "duration": 16,
    "start_time": "2023-04-05T17:29:51.445Z"
   },
   {
    "duration": 36,
    "start_time": "2023-04-05T17:29:51.462Z"
   },
   {
    "duration": 27,
    "start_time": "2023-04-05T17:29:51.499Z"
   },
   {
    "duration": 31,
    "start_time": "2023-04-05T17:29:51.528Z"
   },
   {
    "duration": 28,
    "start_time": "2023-04-05T17:29:51.560Z"
   },
   {
    "duration": 21,
    "start_time": "2023-04-05T17:29:51.590Z"
   },
   {
    "duration": 14,
    "start_time": "2023-04-05T17:29:51.613Z"
   },
   {
    "duration": 17,
    "start_time": "2023-04-05T17:29:51.628Z"
   },
   {
    "duration": 294,
    "start_time": "2023-04-05T17:29:51.647Z"
   },
   {
    "duration": 367,
    "start_time": "2023-04-05T17:29:51.943Z"
   },
   {
    "duration": 288,
    "start_time": "2023-04-05T17:29:52.312Z"
   },
   {
    "duration": 387,
    "start_time": "2023-04-05T17:29:52.602Z"
   },
   {
    "duration": 297,
    "start_time": "2023-04-05T17:29:52.991Z"
   },
   {
    "duration": 358,
    "start_time": "2023-04-05T17:29:53.290Z"
   },
   {
    "duration": 11,
    "start_time": "2023-04-05T17:29:53.650Z"
   },
   {
    "duration": 253,
    "start_time": "2023-04-05T17:29:53.676Z"
   },
   {
    "duration": 5,
    "start_time": "2023-04-05T17:29:53.930Z"
   },
   {
    "duration": 28,
    "start_time": "2023-04-05T17:29:53.937Z"
   },
   {
    "duration": 225,
    "start_time": "2023-04-05T17:29:53.966Z"
   },
   {
    "duration": 5,
    "start_time": "2023-04-05T17:29:54.193Z"
   },
   {
    "duration": 315,
    "start_time": "2023-04-05T17:29:54.199Z"
   },
   {
    "duration": 151,
    "start_time": "2023-04-05T17:29:54.515Z"
   },
   {
    "duration": 44,
    "start_time": "2023-04-05T17:29:54.668Z"
   },
   {
    "duration": 10,
    "start_time": "2023-04-05T17:29:54.714Z"
   },
   {
    "duration": 26,
    "start_time": "2023-04-05T17:29:54.726Z"
   },
   {
    "duration": 43,
    "start_time": "2023-04-05T17:29:54.754Z"
   },
   {
    "duration": 40,
    "start_time": "2023-04-05T17:29:54.798Z"
   },
   {
    "duration": 13,
    "start_time": "2023-04-05T17:29:54.840Z"
   },
   {
    "duration": 67,
    "start_time": "2023-04-06T07:21:56.384Z"
   },
   {
    "duration": 1603,
    "start_time": "2023-04-06T07:22:13.773Z"
   },
   {
    "duration": 63,
    "start_time": "2023-04-06T07:22:15.379Z"
   },
   {
    "duration": 17,
    "start_time": "2023-04-06T07:22:15.445Z"
   },
   {
    "duration": 18,
    "start_time": "2023-04-06T07:22:15.464Z"
   },
   {
    "duration": 7,
    "start_time": "2023-04-06T07:22:15.484Z"
   },
   {
    "duration": 8,
    "start_time": "2023-04-06T07:22:15.493Z"
   },
   {
    "duration": 7,
    "start_time": "2023-04-06T07:22:15.503Z"
   },
   {
    "duration": 63,
    "start_time": "2023-04-06T07:22:15.512Z"
   },
   {
    "duration": 71,
    "start_time": "2023-04-06T07:22:15.577Z"
   },
   {
    "duration": 13,
    "start_time": "2023-04-06T07:22:15.651Z"
   },
   {
    "duration": 19,
    "start_time": "2023-04-06T07:22:15.666Z"
   },
   {
    "duration": 8,
    "start_time": "2023-04-06T07:22:15.688Z"
   },
   {
    "duration": 20,
    "start_time": "2023-04-06T07:22:15.698Z"
   },
   {
    "duration": 13,
    "start_time": "2023-04-06T07:22:15.720Z"
   },
   {
    "duration": 31,
    "start_time": "2023-04-06T07:22:15.735Z"
   },
   {
    "duration": 25,
    "start_time": "2023-04-06T07:22:15.768Z"
   },
   {
    "duration": 8,
    "start_time": "2023-04-06T07:22:15.795Z"
   },
   {
    "duration": 11,
    "start_time": "2023-04-06T07:22:15.806Z"
   },
   {
    "duration": 43,
    "start_time": "2023-04-06T07:22:15.820Z"
   },
   {
    "duration": 8,
    "start_time": "2023-04-06T07:22:15.866Z"
   },
   {
    "duration": 19,
    "start_time": "2023-04-06T07:22:15.875Z"
   },
   {
    "duration": 60,
    "start_time": "2023-04-06T07:22:15.896Z"
   },
   {
    "duration": 10,
    "start_time": "2023-04-06T07:22:15.958Z"
   },
   {
    "duration": 14,
    "start_time": "2023-04-06T07:22:15.970Z"
   },
   {
    "duration": 19,
    "start_time": "2023-04-06T07:22:15.986Z"
   },
   {
    "duration": 12,
    "start_time": "2023-04-06T07:22:16.009Z"
   },
   {
    "duration": 7,
    "start_time": "2023-04-06T07:22:16.024Z"
   },
   {
    "duration": 33,
    "start_time": "2023-04-06T07:22:16.034Z"
   },
   {
    "duration": 5,
    "start_time": "2023-04-06T07:22:16.069Z"
   },
   {
    "duration": 8,
    "start_time": "2023-04-06T07:22:16.076Z"
   },
   {
    "duration": 94,
    "start_time": "2023-04-06T07:22:16.086Z"
   },
   {
    "duration": 11,
    "start_time": "2023-04-06T07:22:28.447Z"
   },
   {
    "duration": 19,
    "start_time": "2023-04-06T07:23:45.270Z"
   },
   {
    "duration": 24,
    "start_time": "2023-04-06T07:25:27.153Z"
   },
   {
    "duration": 3,
    "start_time": "2023-04-06T07:25:32.408Z"
   },
   {
    "duration": 25,
    "start_time": "2023-04-06T07:25:32.417Z"
   },
   {
    "duration": 9,
    "start_time": "2023-04-06T07:25:32.445Z"
   },
   {
    "duration": 14,
    "start_time": "2023-04-06T07:25:32.456Z"
   },
   {
    "duration": 16,
    "start_time": "2023-04-06T07:25:32.472Z"
   },
   {
    "duration": 30,
    "start_time": "2023-04-06T07:25:32.490Z"
   },
   {
    "duration": 20,
    "start_time": "2023-04-06T07:25:32.522Z"
   },
   {
    "duration": 24,
    "start_time": "2023-04-06T07:25:32.545Z"
   },
   {
    "duration": 39,
    "start_time": "2023-04-06T07:25:32.570Z"
   },
   {
    "duration": 8,
    "start_time": "2023-04-06T07:25:32.611Z"
   },
   {
    "duration": 33,
    "start_time": "2023-04-06T07:25:32.622Z"
   },
   {
    "duration": 18,
    "start_time": "2023-04-06T07:25:32.658Z"
   },
   {
    "duration": 24,
    "start_time": "2023-04-06T07:25:32.678Z"
   },
   {
    "duration": 22,
    "start_time": "2023-04-06T07:25:32.705Z"
   },
   {
    "duration": 27,
    "start_time": "2023-04-06T07:25:32.729Z"
   },
   {
    "duration": 34,
    "start_time": "2023-04-06T07:25:32.758Z"
   },
   {
    "duration": 8,
    "start_time": "2023-04-06T07:25:32.795Z"
   },
   {
    "duration": 27,
    "start_time": "2023-04-06T07:25:32.805Z"
   },
   {
    "duration": 15,
    "start_time": "2023-04-06T07:25:32.835Z"
   },
   {
    "duration": 11,
    "start_time": "2023-04-06T07:25:32.852Z"
   },
   {
    "duration": 15,
    "start_time": "2023-04-06T07:25:32.866Z"
   },
   {
    "duration": 16,
    "start_time": "2023-04-06T07:25:32.885Z"
   },
   {
    "duration": 10,
    "start_time": "2023-04-06T07:25:32.903Z"
   },
   {
    "duration": 12,
    "start_time": "2023-04-06T07:25:32.915Z"
   },
   {
    "duration": 8,
    "start_time": "2023-04-06T07:25:32.929Z"
   },
   {
    "duration": 32,
    "start_time": "2023-04-06T07:25:32.939Z"
   },
   {
    "duration": 7,
    "start_time": "2023-04-06T07:25:32.973Z"
   },
   {
    "duration": 15,
    "start_time": "2023-04-06T07:25:32.982Z"
   },
   {
    "duration": 9,
    "start_time": "2023-04-06T07:25:32.999Z"
   },
   {
    "duration": 19,
    "start_time": "2023-04-06T07:25:33.010Z"
   },
   {
    "duration": 16,
    "start_time": "2023-04-06T07:25:33.031Z"
   },
   {
    "duration": 18,
    "start_time": "2023-04-06T07:25:33.061Z"
   },
   {
    "duration": 6,
    "start_time": "2023-04-06T07:25:33.081Z"
   },
   {
    "duration": 317,
    "start_time": "2023-04-06T07:25:33.088Z"
   },
   {
    "duration": 387,
    "start_time": "2023-04-06T07:25:33.407Z"
   },
   {
    "duration": 307,
    "start_time": "2023-04-06T07:25:33.796Z"
   },
   {
    "duration": 432,
    "start_time": "2023-04-06T07:25:42.278Z"
   },
   {
    "duration": 393,
    "start_time": "2023-04-06T07:27:48.067Z"
   },
   {
    "duration": 383,
    "start_time": "2023-04-06T07:29:17.378Z"
   },
   {
    "duration": 479,
    "start_time": "2023-04-06T07:31:33.354Z"
   },
   {
    "duration": 428,
    "start_time": "2023-04-06T07:31:48.244Z"
   },
   {
    "duration": 412,
    "start_time": "2023-04-06T07:32:42.980Z"
   },
   {
    "duration": 297,
    "start_time": "2023-04-06T07:33:42.448Z"
   },
   {
    "duration": 408,
    "start_time": "2023-04-06T07:34:35.164Z"
   },
   {
    "duration": 302,
    "start_time": "2023-04-06T07:42:40.095Z"
   },
   {
    "duration": 205,
    "start_time": "2023-04-06T07:43:16.871Z"
   },
   {
    "duration": 212,
    "start_time": "2023-04-06T07:43:41.906Z"
   },
   {
    "duration": 210,
    "start_time": "2023-04-06T07:43:52.826Z"
   },
   {
    "duration": 11,
    "start_time": "2023-04-06T07:55:22.238Z"
   },
   {
    "duration": 3,
    "start_time": "2023-04-06T07:55:27.989Z"
   },
   {
    "duration": 30,
    "start_time": "2023-04-06T07:55:27.995Z"
   },
   {
    "duration": 9,
    "start_time": "2023-04-06T07:55:28.027Z"
   },
   {
    "duration": 13,
    "start_time": "2023-04-06T07:55:28.037Z"
   },
   {
    "duration": 16,
    "start_time": "2023-04-06T07:55:28.052Z"
   },
   {
    "duration": 15,
    "start_time": "2023-04-06T07:55:28.069Z"
   },
   {
    "duration": 12,
    "start_time": "2023-04-06T07:55:28.085Z"
   },
   {
    "duration": 23,
    "start_time": "2023-04-06T07:55:28.099Z"
   },
   {
    "duration": 39,
    "start_time": "2023-04-06T07:55:28.124Z"
   },
   {
    "duration": 7,
    "start_time": "2023-04-06T07:55:28.165Z"
   },
   {
    "duration": 26,
    "start_time": "2023-04-06T07:55:28.174Z"
   },
   {
    "duration": 8,
    "start_time": "2023-04-06T07:55:28.202Z"
   },
   {
    "duration": 11,
    "start_time": "2023-04-06T07:55:28.213Z"
   },
   {
    "duration": 8,
    "start_time": "2023-04-06T07:55:28.226Z"
   },
   {
    "duration": 7,
    "start_time": "2023-04-06T07:55:28.236Z"
   },
   {
    "duration": 20,
    "start_time": "2023-04-06T07:55:28.262Z"
   },
   {
    "duration": 4,
    "start_time": "2023-04-06T07:55:28.284Z"
   },
   {
    "duration": 5,
    "start_time": "2023-04-06T07:55:28.290Z"
   },
   {
    "duration": 11,
    "start_time": "2023-04-06T07:55:28.297Z"
   },
   {
    "duration": 6,
    "start_time": "2023-04-06T07:55:28.310Z"
   },
   {
    "duration": 51,
    "start_time": "2023-04-06T07:55:28.318Z"
   },
   {
    "duration": 29,
    "start_time": "2023-04-06T07:55:28.371Z"
   },
   {
    "duration": 8,
    "start_time": "2023-04-06T07:55:28.402Z"
   },
   {
    "duration": 18,
    "start_time": "2023-04-06T07:55:28.412Z"
   },
   {
    "duration": 5,
    "start_time": "2023-04-06T07:55:28.435Z"
   },
   {
    "duration": 20,
    "start_time": "2023-04-06T07:55:28.443Z"
   },
   {
    "duration": 18,
    "start_time": "2023-04-06T07:55:28.464Z"
   },
   {
    "duration": 28,
    "start_time": "2023-04-06T07:55:28.483Z"
   },
   {
    "duration": 11,
    "start_time": "2023-04-06T07:55:28.513Z"
   },
   {
    "duration": 7,
    "start_time": "2023-04-06T07:55:28.526Z"
   },
   {
    "duration": 22,
    "start_time": "2023-04-06T07:55:28.535Z"
   },
   {
    "duration": 27,
    "start_time": "2023-04-06T07:55:28.559Z"
   },
   {
    "duration": 10,
    "start_time": "2023-04-06T07:55:28.587Z"
   },
   {
    "duration": 325,
    "start_time": "2023-04-06T07:55:28.599Z"
   },
   {
    "duration": 310,
    "start_time": "2023-04-06T07:55:28.926Z"
   },
   {
    "duration": 314,
    "start_time": "2023-04-06T07:55:29.238Z"
   },
   {
    "duration": 386,
    "start_time": "2023-04-06T07:55:29.554Z"
   },
   {
    "duration": 402,
    "start_time": "2023-04-06T07:55:29.941Z"
   },
   {
    "duration": 419,
    "start_time": "2023-04-06T07:55:30.345Z"
   },
   {
    "duration": 13,
    "start_time": "2023-04-06T07:55:30.767Z"
   },
   {
    "duration": 232,
    "start_time": "2023-04-06T07:55:30.782Z"
   },
   {
    "duration": 5,
    "start_time": "2023-04-06T07:55:31.016Z"
   },
   {
    "duration": 59,
    "start_time": "2023-04-06T07:55:31.023Z"
   },
   {
    "duration": 281,
    "start_time": "2023-04-06T07:55:31.084Z"
   },
   {
    "duration": 212,
    "start_time": "2023-04-06T07:55:31.367Z"
   },
   {
    "duration": 5,
    "start_time": "2023-04-06T07:55:31.581Z"
   },
   {
    "duration": 245,
    "start_time": "2023-04-06T07:55:31.588Z"
   },
   {
    "duration": 117,
    "start_time": "2023-04-06T07:55:31.835Z"
   },
   {
    "duration": 27,
    "start_time": "2023-04-06T07:55:46.584Z"
   },
   {
    "duration": 26,
    "start_time": "2023-04-06T07:55:57.262Z"
   },
   {
    "duration": 12,
    "start_time": "2023-04-06T07:57:19.603Z"
   },
   {
    "duration": 11,
    "start_time": "2023-04-06T07:57:30.575Z"
   },
   {
    "duration": 11,
    "start_time": "2023-04-06T08:01:50.903Z"
   },
   {
    "duration": 16,
    "start_time": "2023-04-06T08:03:31.886Z"
   },
   {
    "duration": 7,
    "start_time": "2023-04-06T08:25:14.105Z"
   },
   {
    "duration": 6,
    "start_time": "2023-04-06T08:25:22.312Z"
   },
   {
    "duration": 17,
    "start_time": "2023-04-06T08:25:44.762Z"
   },
   {
    "duration": 6,
    "start_time": "2023-04-06T08:26:54.109Z"
   },
   {
    "duration": 5,
    "start_time": "2023-04-06T08:27:12.968Z"
   },
   {
    "duration": 6,
    "start_time": "2023-04-06T08:27:35.711Z"
   },
   {
    "duration": 48,
    "start_time": "2023-04-06T08:28:14.573Z"
   },
   {
    "duration": 16,
    "start_time": "2023-04-06T08:29:17.231Z"
   },
   {
    "duration": 10,
    "start_time": "2023-04-06T08:29:33.032Z"
   },
   {
    "duration": 10,
    "start_time": "2023-04-06T08:29:51.792Z"
   },
   {
    "duration": 10,
    "start_time": "2023-04-06T08:30:13.455Z"
   },
   {
    "duration": 12,
    "start_time": "2023-04-06T08:30:26.575Z"
   },
   {
    "duration": 12,
    "start_time": "2023-04-06T08:30:36.388Z"
   },
   {
    "duration": 10,
    "start_time": "2023-04-06T08:30:42.505Z"
   },
   {
    "duration": 11,
    "start_time": "2023-04-06T08:32:04.845Z"
   },
   {
    "duration": 3,
    "start_time": "2023-04-06T08:32:13.169Z"
   },
   {
    "duration": 23,
    "start_time": "2023-04-06T08:32:13.198Z"
   },
   {
    "duration": 9,
    "start_time": "2023-04-06T08:32:13.223Z"
   },
   {
    "duration": 12,
    "start_time": "2023-04-06T08:32:13.233Z"
   },
   {
    "duration": 5,
    "start_time": "2023-04-06T08:32:13.268Z"
   },
   {
    "duration": 8,
    "start_time": "2023-04-06T08:32:13.286Z"
   },
   {
    "duration": 5,
    "start_time": "2023-04-06T08:32:13.319Z"
   },
   {
    "duration": 29,
    "start_time": "2023-04-06T08:32:13.329Z"
   },
   {
    "duration": 42,
    "start_time": "2023-04-06T08:32:13.360Z"
   },
   {
    "duration": 8,
    "start_time": "2023-04-06T08:32:13.404Z"
   },
   {
    "duration": 20,
    "start_time": "2023-04-06T08:32:13.414Z"
   },
   {
    "duration": 12,
    "start_time": "2023-04-06T08:32:13.436Z"
   },
   {
    "duration": 30,
    "start_time": "2023-04-06T08:32:13.450Z"
   },
   {
    "duration": 25,
    "start_time": "2023-04-06T08:32:13.483Z"
   },
   {
    "duration": 27,
    "start_time": "2023-04-06T08:32:13.510Z"
   },
   {
    "duration": 27,
    "start_time": "2023-04-06T08:32:13.539Z"
   },
   {
    "duration": 5,
    "start_time": "2023-04-06T08:32:13.568Z"
   },
   {
    "duration": 15,
    "start_time": "2023-04-06T08:32:13.575Z"
   },
   {
    "duration": 10,
    "start_time": "2023-04-06T08:32:13.592Z"
   },
   {
    "duration": 9,
    "start_time": "2023-04-06T08:32:13.604Z"
   },
   {
    "duration": 16,
    "start_time": "2023-04-06T08:32:13.614Z"
   },
   {
    "duration": 30,
    "start_time": "2023-04-06T08:32:13.632Z"
   },
   {
    "duration": 8,
    "start_time": "2023-04-06T08:32:13.664Z"
   },
   {
    "duration": 23,
    "start_time": "2023-04-06T08:32:13.674Z"
   },
   {
    "duration": 29,
    "start_time": "2023-04-06T08:32:13.699Z"
   },
   {
    "duration": 37,
    "start_time": "2023-04-06T08:32:13.730Z"
   },
   {
    "duration": 21,
    "start_time": "2023-04-06T08:32:13.769Z"
   },
   {
    "duration": 19,
    "start_time": "2023-04-06T08:32:13.792Z"
   },
   {
    "duration": 15,
    "start_time": "2023-04-06T08:32:13.813Z"
   },
   {
    "duration": 22,
    "start_time": "2023-04-06T08:32:13.829Z"
   },
   {
    "duration": 22,
    "start_time": "2023-04-06T08:32:13.853Z"
   },
   {
    "duration": 25,
    "start_time": "2023-04-06T08:32:13.878Z"
   },
   {
    "duration": 11,
    "start_time": "2023-04-06T08:32:13.907Z"
   },
   {
    "duration": 357,
    "start_time": "2023-04-06T08:32:13.921Z"
   },
   {
    "duration": 283,
    "start_time": "2023-04-06T08:32:14.279Z"
   },
   {
    "duration": 274,
    "start_time": "2023-04-06T08:32:14.564Z"
   },
   {
    "duration": 404,
    "start_time": "2023-04-06T08:32:14.840Z"
   },
   {
    "duration": 308,
    "start_time": "2023-04-06T08:32:15.246Z"
   },
   {
    "duration": 427,
    "start_time": "2023-04-06T08:32:15.556Z"
   },
   {
    "duration": 14,
    "start_time": "2023-04-06T08:32:15.985Z"
   },
   {
    "duration": 236,
    "start_time": "2023-04-06T08:32:16.001Z"
   },
   {
    "duration": 5,
    "start_time": "2023-04-06T08:32:16.239Z"
   },
   {
    "duration": 27,
    "start_time": "2023-04-06T08:32:16.247Z"
   },
   {
    "duration": 216,
    "start_time": "2023-04-06T08:32:16.276Z"
   },
   {
    "duration": 208,
    "start_time": "2023-04-06T08:32:16.494Z"
   },
   {
    "duration": 5,
    "start_time": "2023-04-06T08:32:16.703Z"
   },
   {
    "duration": 237,
    "start_time": "2023-04-06T08:32:16.710Z"
   },
   {
    "duration": 140,
    "start_time": "2023-04-06T08:32:16.948Z"
   },
   {
    "duration": 24,
    "start_time": "2023-04-06T08:32:17.090Z"
   },
   {
    "duration": 12,
    "start_time": "2023-04-06T08:32:17.115Z"
   },
   {
    "duration": 34,
    "start_time": "2023-04-06T08:32:17.128Z"
   },
   {
    "duration": 8,
    "start_time": "2023-04-06T08:32:17.164Z"
   },
   {
    "duration": 30,
    "start_time": "2023-04-06T08:32:30.171Z"
   },
   {
    "duration": 21,
    "start_time": "2023-04-06T08:33:50.994Z"
   },
   {
    "duration": 14,
    "start_time": "2023-04-06T08:35:13.732Z"
   },
   {
    "duration": 17,
    "start_time": "2023-04-06T08:35:23.164Z"
   },
   {
    "duration": 15,
    "start_time": "2023-04-06T08:35:46.480Z"
   },
   {
    "duration": 1176,
    "start_time": "2023-04-06T08:36:10.798Z"
   },
   {
    "duration": 24,
    "start_time": "2023-04-06T08:36:11.977Z"
   },
   {
    "duration": 13,
    "start_time": "2023-04-06T08:36:12.003Z"
   },
   {
    "duration": 22,
    "start_time": "2023-04-06T08:36:12.019Z"
   },
   {
    "duration": 8,
    "start_time": "2023-04-06T08:36:12.043Z"
   },
   {
    "duration": 9,
    "start_time": "2023-04-06T08:36:12.053Z"
   },
   {
    "duration": 5,
    "start_time": "2023-04-06T08:36:12.064Z"
   },
   {
    "duration": 25,
    "start_time": "2023-04-06T08:36:12.071Z"
   },
   {
    "duration": 32,
    "start_time": "2023-04-06T08:36:12.098Z"
   },
   {
    "duration": 9,
    "start_time": "2023-04-06T08:36:12.133Z"
   },
   {
    "duration": 17,
    "start_time": "2023-04-06T08:36:12.143Z"
   },
   {
    "duration": 6,
    "start_time": "2023-04-06T08:36:12.162Z"
   },
   {
    "duration": 13,
    "start_time": "2023-04-06T08:36:12.170Z"
   },
   {
    "duration": 10,
    "start_time": "2023-04-06T08:36:12.185Z"
   },
   {
    "duration": 9,
    "start_time": "2023-04-06T08:36:12.196Z"
   },
   {
    "duration": 19,
    "start_time": "2023-04-06T08:36:12.207Z"
   },
   {
    "duration": 5,
    "start_time": "2023-04-06T08:36:12.227Z"
   },
   {
    "duration": 4,
    "start_time": "2023-04-06T08:36:12.262Z"
   },
   {
    "duration": 11,
    "start_time": "2023-04-06T08:36:12.268Z"
   },
   {
    "duration": 7,
    "start_time": "2023-04-06T08:36:12.282Z"
   },
   {
    "duration": 21,
    "start_time": "2023-04-06T08:36:12.291Z"
   },
   {
    "duration": 16,
    "start_time": "2023-04-06T08:36:12.314Z"
   },
   {
    "duration": 10,
    "start_time": "2023-04-06T08:36:12.332Z"
   },
   {
    "duration": 14,
    "start_time": "2023-04-06T08:36:12.362Z"
   },
   {
    "duration": 6,
    "start_time": "2023-04-06T08:36:12.378Z"
   },
   {
    "duration": 8,
    "start_time": "2023-04-06T08:36:12.385Z"
   },
   {
    "duration": 18,
    "start_time": "2023-04-06T08:36:12.395Z"
   },
   {
    "duration": 25,
    "start_time": "2023-04-06T08:36:12.416Z"
   },
   {
    "duration": 20,
    "start_time": "2023-04-06T08:36:12.443Z"
   },
   {
    "duration": 5,
    "start_time": "2023-04-06T08:36:12.464Z"
   },
   {
    "duration": 15,
    "start_time": "2023-04-06T08:36:12.470Z"
   },
   {
    "duration": 26,
    "start_time": "2023-04-06T08:36:12.487Z"
   },
   {
    "duration": 14,
    "start_time": "2023-04-06T08:36:12.515Z"
   },
   {
    "duration": 326,
    "start_time": "2023-04-06T08:36:12.531Z"
   },
   {
    "duration": 360,
    "start_time": "2023-04-06T08:36:12.859Z"
   },
   {
    "duration": 296,
    "start_time": "2023-04-06T08:36:13.221Z"
   },
   {
    "duration": 357,
    "start_time": "2023-04-06T08:36:13.519Z"
   },
   {
    "duration": 394,
    "start_time": "2023-04-06T08:36:13.878Z"
   },
   {
    "duration": 409,
    "start_time": "2023-04-06T08:36:14.274Z"
   },
   {
    "duration": 13,
    "start_time": "2023-04-06T08:36:14.685Z"
   },
   {
    "duration": 223,
    "start_time": "2023-04-06T08:36:14.699Z"
   },
   {
    "duration": 5,
    "start_time": "2023-04-06T08:36:14.924Z"
   },
   {
    "duration": 24,
    "start_time": "2023-04-06T08:36:14.931Z"
   },
   {
    "duration": 200,
    "start_time": "2023-04-06T08:36:14.961Z"
   },
   {
    "duration": 298,
    "start_time": "2023-04-06T08:36:15.163Z"
   },
   {
    "duration": 6,
    "start_time": "2023-04-06T08:36:15.463Z"
   },
   {
    "duration": 237,
    "start_time": "2023-04-06T08:36:15.470Z"
   },
   {
    "duration": 125,
    "start_time": "2023-04-06T08:36:15.709Z"
   },
   {
    "duration": 31,
    "start_time": "2023-04-06T08:36:15.835Z"
   },
   {
    "duration": 11,
    "start_time": "2023-04-06T08:36:15.868Z"
   },
   {
    "duration": 9,
    "start_time": "2023-04-06T08:36:15.881Z"
   },
   {
    "duration": 13,
    "start_time": "2023-04-06T08:36:15.892Z"
   },
   {
    "duration": 22,
    "start_time": "2023-04-06T08:36:15.907Z"
   },
   {
    "duration": 40,
    "start_time": "2023-04-06T08:36:15.931Z"
   },
   {
    "duration": 250,
    "start_time": "2023-04-06T08:38:30.760Z"
   },
   {
    "duration": 214,
    "start_time": "2023-04-06T08:39:02.723Z"
   },
   {
    "duration": 232,
    "start_time": "2023-04-06T08:39:10.946Z"
   },
   {
    "duration": 26,
    "start_time": "2023-04-06T08:39:33.933Z"
   },
   {
    "duration": 1266,
    "start_time": "2023-04-06T08:39:52.547Z"
   },
   {
    "duration": 24,
    "start_time": "2023-04-06T08:39:53.815Z"
   },
   {
    "duration": 13,
    "start_time": "2023-04-06T08:39:53.841Z"
   },
   {
    "duration": 20,
    "start_time": "2023-04-06T08:39:53.856Z"
   },
   {
    "duration": 17,
    "start_time": "2023-04-06T08:39:53.878Z"
   },
   {
    "duration": 25,
    "start_time": "2023-04-06T08:39:53.897Z"
   },
   {
    "duration": 8,
    "start_time": "2023-04-06T08:39:53.924Z"
   },
   {
    "duration": 40,
    "start_time": "2023-04-06T08:39:53.934Z"
   },
   {
    "duration": 39,
    "start_time": "2023-04-06T08:39:53.976Z"
   },
   {
    "duration": 10,
    "start_time": "2023-04-06T08:39:54.019Z"
   },
   {
    "duration": 20,
    "start_time": "2023-04-06T08:39:54.031Z"
   },
   {
    "duration": 38,
    "start_time": "2023-04-06T08:39:54.053Z"
   },
   {
    "duration": 16,
    "start_time": "2023-04-06T08:39:54.094Z"
   },
   {
    "duration": 17,
    "start_time": "2023-04-06T08:39:54.113Z"
   },
   {
    "duration": 10,
    "start_time": "2023-04-06T08:39:54.132Z"
   },
   {
    "duration": 28,
    "start_time": "2023-04-06T08:39:54.144Z"
   },
   {
    "duration": 5,
    "start_time": "2023-04-06T08:39:54.175Z"
   },
   {
    "duration": 7,
    "start_time": "2023-04-06T08:39:54.183Z"
   },
   {
    "duration": 16,
    "start_time": "2023-04-06T08:39:54.192Z"
   },
   {
    "duration": 11,
    "start_time": "2023-04-06T08:39:54.211Z"
   },
   {
    "duration": 17,
    "start_time": "2023-04-06T08:39:54.224Z"
   },
   {
    "duration": 31,
    "start_time": "2023-04-06T08:39:54.243Z"
   },
   {
    "duration": 8,
    "start_time": "2023-04-06T08:39:54.276Z"
   },
   {
    "duration": 25,
    "start_time": "2023-04-06T08:39:54.285Z"
   },
   {
    "duration": 10,
    "start_time": "2023-04-06T08:39:54.313Z"
   },
   {
    "duration": 11,
    "start_time": "2023-04-06T08:39:54.325Z"
   },
   {
    "duration": 7,
    "start_time": "2023-04-06T08:39:54.338Z"
   },
   {
    "duration": 20,
    "start_time": "2023-04-06T08:39:54.348Z"
   },
   {
    "duration": 4,
    "start_time": "2023-04-06T08:39:54.370Z"
   },
   {
    "duration": 14,
    "start_time": "2023-04-06T08:39:54.376Z"
   },
   {
    "duration": 24,
    "start_time": "2023-04-06T08:39:54.392Z"
   },
   {
    "duration": 13,
    "start_time": "2023-04-06T08:39:54.418Z"
   },
   {
    "duration": 7,
    "start_time": "2023-04-06T08:39:54.432Z"
   },
   {
    "duration": 309,
    "start_time": "2023-04-06T08:39:54.441Z"
   },
   {
    "duration": 356,
    "start_time": "2023-04-06T08:39:54.752Z"
   },
   {
    "duration": 290,
    "start_time": "2023-04-06T08:39:55.110Z"
   },
   {
    "duration": 373,
    "start_time": "2023-04-06T08:39:55.403Z"
   },
   {
    "duration": 362,
    "start_time": "2023-04-06T08:39:55.778Z"
   },
   {
    "duration": 425,
    "start_time": "2023-04-06T08:39:56.142Z"
   },
   {
    "duration": 13,
    "start_time": "2023-04-06T08:39:56.569Z"
   },
   {
    "duration": 251,
    "start_time": "2023-04-06T08:39:56.584Z"
   },
   {
    "duration": 6,
    "start_time": "2023-04-06T08:39:56.837Z"
   },
   {
    "duration": 23,
    "start_time": "2023-04-06T08:39:56.845Z"
   },
   {
    "duration": 227,
    "start_time": "2023-04-06T08:39:56.870Z"
   },
   {
    "duration": 320,
    "start_time": "2023-04-06T08:39:57.099Z"
   },
   {
    "duration": 6,
    "start_time": "2023-04-06T08:39:57.421Z"
   },
   {
    "duration": 311,
    "start_time": "2023-04-06T08:39:57.429Z"
   },
   {
    "duration": 184,
    "start_time": "2023-04-06T08:39:57.742Z"
   },
   {
    "duration": 42,
    "start_time": "2023-04-06T08:39:57.927Z"
   },
   {
    "duration": 13,
    "start_time": "2023-04-06T08:39:57.971Z"
   },
   {
    "duration": 11,
    "start_time": "2023-04-06T08:39:57.986Z"
   },
   {
    "duration": 13,
    "start_time": "2023-04-06T08:39:57.999Z"
   },
   {
    "duration": 52,
    "start_time": "2023-04-06T08:39:58.014Z"
   },
   {
    "duration": 16,
    "start_time": "2023-04-06T08:39:58.069Z"
   },
   {
    "duration": 1169,
    "start_time": "2023-04-06T22:03:01.540Z"
   },
   {
    "duration": 79,
    "start_time": "2023-04-06T22:03:02.711Z"
   },
   {
    "duration": 13,
    "start_time": "2023-04-06T22:03:02.791Z"
   },
   {
    "duration": 20,
    "start_time": "2023-04-06T22:03:02.807Z"
   },
   {
    "duration": 6,
    "start_time": "2023-04-06T22:03:02.829Z"
   },
   {
    "duration": 12,
    "start_time": "2023-04-06T22:03:02.837Z"
   },
   {
    "duration": 13,
    "start_time": "2023-04-06T22:03:02.850Z"
   },
   {
    "duration": 36,
    "start_time": "2023-04-06T22:03:02.864Z"
   },
   {
    "duration": 88,
    "start_time": "2023-04-06T22:03:02.902Z"
   },
   {
    "duration": 10,
    "start_time": "2023-04-06T22:03:02.992Z"
   },
   {
    "duration": 23,
    "start_time": "2023-04-06T22:03:03.003Z"
   },
   {
    "duration": 8,
    "start_time": "2023-04-06T22:03:03.028Z"
   },
   {
    "duration": 13,
    "start_time": "2023-04-06T22:03:03.038Z"
   },
   {
    "duration": 10,
    "start_time": "2023-04-06T22:03:03.053Z"
   },
   {
    "duration": 9,
    "start_time": "2023-04-06T22:03:03.064Z"
   },
   {
    "duration": 28,
    "start_time": "2023-04-06T22:03:03.074Z"
   },
   {
    "duration": 3,
    "start_time": "2023-04-06T22:03:03.104Z"
   },
   {
    "duration": 7,
    "start_time": "2023-04-06T22:03:03.109Z"
   },
   {
    "duration": 10,
    "start_time": "2023-04-06T22:03:03.118Z"
   },
   {
    "duration": 5,
    "start_time": "2023-04-06T22:03:03.129Z"
   },
   {
    "duration": 13,
    "start_time": "2023-04-06T22:03:03.136Z"
   },
   {
    "duration": 63,
    "start_time": "2023-04-06T22:03:03.151Z"
   },
   {
    "duration": 7,
    "start_time": "2023-04-06T22:03:03.216Z"
   },
   {
    "duration": 15,
    "start_time": "2023-04-06T22:03:03.225Z"
   },
   {
    "duration": 7,
    "start_time": "2023-04-06T22:03:03.241Z"
   },
   {
    "duration": 8,
    "start_time": "2023-04-06T22:03:03.249Z"
   },
   {
    "duration": 9,
    "start_time": "2023-04-06T22:03:03.259Z"
   },
   {
    "duration": 11,
    "start_time": "2023-04-06T22:03:03.271Z"
   },
   {
    "duration": 9,
    "start_time": "2023-04-06T22:03:03.284Z"
   },
   {
    "duration": 7,
    "start_time": "2023-04-06T22:03:03.295Z"
   },
   {
    "duration": 15,
    "start_time": "2023-04-06T22:03:03.303Z"
   },
   {
    "duration": 12,
    "start_time": "2023-04-06T22:03:03.320Z"
   },
   {
    "duration": 9,
    "start_time": "2023-04-06T22:03:03.334Z"
   },
   {
    "duration": 303,
    "start_time": "2023-04-06T22:03:03.345Z"
   },
   {
    "duration": 368,
    "start_time": "2023-04-06T22:03:03.649Z"
   },
   {
    "duration": 298,
    "start_time": "2023-04-06T22:03:04.019Z"
   },
   {
    "duration": 377,
    "start_time": "2023-04-06T22:03:04.318Z"
   },
   {
    "duration": 312,
    "start_time": "2023-04-06T22:03:04.697Z"
   },
   {
    "duration": 390,
    "start_time": "2023-04-06T22:03:05.011Z"
   },
   {
    "duration": 11,
    "start_time": "2023-04-06T22:03:05.403Z"
   },
   {
    "duration": 254,
    "start_time": "2023-04-06T22:03:05.416Z"
   },
   {
    "duration": 6,
    "start_time": "2023-04-06T22:03:05.672Z"
   },
   {
    "duration": 10,
    "start_time": "2023-04-06T22:03:05.688Z"
   },
   {
    "duration": 221,
    "start_time": "2023-04-06T22:03:05.699Z"
   },
   {
    "duration": 294,
    "start_time": "2023-04-06T22:03:05.922Z"
   },
   {
    "duration": 5,
    "start_time": "2023-04-06T22:03:06.218Z"
   },
   {
    "duration": 249,
    "start_time": "2023-04-06T22:03:06.225Z"
   },
   {
    "duration": 161,
    "start_time": "2023-04-06T22:03:06.477Z"
   },
   {
    "duration": 29,
    "start_time": "2023-04-06T22:03:06.639Z"
   },
   {
    "duration": 25,
    "start_time": "2023-04-06T22:03:06.670Z"
   },
   {
    "duration": 10,
    "start_time": "2023-04-06T22:03:06.697Z"
   },
   {
    "duration": 8,
    "start_time": "2023-04-06T22:03:06.709Z"
   },
   {
    "duration": 39,
    "start_time": "2023-04-06T22:03:06.719Z"
   },
   {
    "duration": 33,
    "start_time": "2023-04-06T22:03:06.760Z"
   }
  ],
  "kernelspec": {
   "display_name": "Python 3 (ipykernel)",
   "language": "python",
   "name": "python3"
  },
  "language_info": {
   "codemirror_mode": {
    "name": "ipython",
    "version": 3
   },
   "file_extension": ".py",
   "mimetype": "text/x-python",
   "name": "python",
   "nbconvert_exporter": "python",
   "pygments_lexer": "ipython3",
   "version": "3.9.13"
  },
  "toc": {
   "base_numbering": 1,
   "nav_menu": {},
   "number_sections": true,
   "sideBar": true,
   "skip_h1_title": true,
   "title_cell": "Table of Contents",
   "title_sidebar": "Contents",
   "toc_cell": false,
   "toc_position": {},
   "toc_section_display": true,
   "toc_window_display": false
  }
 },
 "nbformat": 4,
 "nbformat_minor": 5
}
